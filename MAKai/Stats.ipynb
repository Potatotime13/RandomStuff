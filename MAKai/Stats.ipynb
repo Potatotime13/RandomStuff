{
 "cells": [
  {
   "cell_type": "code",
   "execution_count": null,
   "metadata": {},
   "outputs": [],
   "source": [
    "import pandas as pd\n",
    "import numpy as np\n",
    "import plotly.express as px\n",
    "import os\n",
    "\n",
    "own_path = os.getcwd()\n",
    "#own_path = 'MAKai'\n",
    "\n",
    "# get all sheet names\n",
    "sheet_names = pd.ExcelFile(own_path+'\\MasterarbeitenDatenAlleV2.xlsx').sheet_names\n",
    "\n",
    "color_palette = {1: 'rgb(248, 246, 245)', 2: 'rgb(228, 227, 221)', 3: 'rgb(77, 75, 70)', 4: 'rgb(134, 0, 71)', 5: 'rgb(179, 6, 44)', 6: 'rgb(277, 186, 15)', 7: 'rgb(115, 124, 69)',\n",
    "                 8: 'rgb(0, 97, 143)', 9: 'rgb(173, 59, 118)', 10: 'rgb(201, 98, 21)', 11: 'rgb(247, 217, 38)', 12: 'rgb(165, 171, 82)', 13: 'rgb(72, 169, 218)'}\n",
    "\n",
    "\n",
    "dfs = []\n",
    "for sheet_name in sheet_names:\n",
    "    if sheet_name == 'Codierung':\n",
    "        codes = pd.read_excel(own_path+'\\MasterarbeitenDatenAlleV2.xlsx', sheet_name=sheet_name)\n",
    "    else:\n",
    "        df = pd.read_excel(own_path+'\\MasterarbeitenDatenAlleV2.xlsx', sheet_name=sheet_name)\n",
    "        df['DT'] = sheet_name\n",
    "        dfs.append(df)\n",
    "\n",
    "code_color = {\n",
    "    0: 0,\n",
    "    1: -1,\n",
    "    2: -1,\n",
    "    3: 0,\n",
    "    4: 1,\n",
    "    5: 0,\n",
    "}\n",
    "\n",
    "codes['code_color'] = codes['Codierung'].map(code_color)\n",
    "\n",
    "# concatenate all dataframes\n",
    "df = pd.concat(dfs, ignore_index=True)\n",
    "df = df.set_index(['DT', 'Land']).melt(ignore_index=False).set_index('variable', append=True)\n",
    "df = df.pivot_table(index=['Land', 'variable'], columns='DT', values='value')\n",
    "df.index.names = ['Land', 'Jahr']\n",
    "codes = codes.set_index('Land')\n",
    "df = df.merge(codes, left_index=True, right_index=True).drop('Typ', axis=1)\n",
    "df = df.set_index('Codierung', append=True).sort_index()\n",
    "\n",
    "name_map = {\n",
    "    'Kosten': ['Anteil  BIP Private', 'Anteil BIP Public ', 'Gesundheitsausgaben pro Kopf', 'Out of Pocket'],\n",
    "    'Zugänglichkeit': ['Artzbesuche (pro Kopf)', 'Belegungsrate Akutpflegebet', 'Hospital beds', 'Practising doctors', 'Professional nurses'],\n",
    "    'Qualität': ['Krebs M', 'Krebs W', 'Schlaganfall M', 'Schlaganfall W', 'Sterblichkeit ab 65 M', 'Sterblichkeit ab 65 W', 'Verhinderbare Sterblichkeitsrat']\n",
    "}\n",
    "\n",
    "score_map = {\n",
    "    'Anteil  BIP Private': 1, \n",
    "    'Anteil BIP Public ': 1, \n",
    "    'Artzbesuche (pro Kopf)': 1,\n",
    "    'Belegungsrate Akutpflegebet': -1, \n",
    "    'Gesundheitsausgaben pro Kopf': 1,\n",
    "    'Hospital beds': 1, \n",
    "    'Krebs M': -1, \n",
    "    'Krebs W': -1, \n",
    "    'Out of Pocket': 1,\n",
    "    'Practising doctors': 1,\n",
    "    'Professional nurses': 1, \n",
    "    'Schlaganfall M': -1,\n",
    "    'Schlaganfall W': -1,\n",
    "    'Sterblichkeit ab 65 M': 1, \n",
    "    'Sterblichkeit ab 65 W': 1,\n",
    "    'Verhinderbare Sterblichkeitsrat': -1\n",
    "    }\n",
    "\n",
    "# fill missing values\n",
    "df = df.groupby(['Land']).ffill()\n",
    "\n",
    "# z normalize over all years per variable\n",
    "df = (df - df.mean()) / df.std()\n",
    "\n",
    "# add columns for each category\n",
    "for key in name_map.keys():\n",
    "    tmp_sum = []\n",
    "    for col in name_map[key]:\n",
    "        tmp_sum.append(df[col] * score_map[col])\n",
    "\n",
    "    tmp_sum = pd.concat(tmp_sum, axis=1).mean(axis=1)\n",
    "\n",
    "    df[key] = tmp_sum\n",
    "\n",
    "# filter year > 2010\n",
    "df_f = df[df.index.get_level_values('Jahr') > 2010]"
   ]
  },
  {
   "cell_type": "code",
   "execution_count": 7,
   "metadata": {},
   "outputs": [
    {
     "data": {
      "application/vnd.plotly.v1+json": {
       "config": {
        "plotlyServerURL": "https://plot.ly"
       },
       "data": [
        {
         "coloraxis": "coloraxis",
         "hovertemplate": "Variable: %{x}<br>Variable: %{y}<br>Correlation: %{z}<extra></extra>",
         "name": "0",
         "type": "heatmap",
         "x": [
          "Anteil  BIP Private",
          "Anteil BIP Public ",
          "Gesundheitsausgaben pro Kopf",
          "Out of Pocket",
          "Artzbesuche (pro Kopf)",
          "Belegungsrate Akutpflegebet",
          "Hospital beds",
          "Practising Medical Staff",
          "Krebs",
          "Schlaganfall",
          "Sterblichkeit",
          "Verhinderbare Sterblichkeitsrat"
         ],
         "xaxis": "x",
         "y": [
          "Anteil  BIP Private",
          "Anteil BIP Public ",
          "Gesundheitsausgaben pro Kopf",
          "Out of Pocket",
          "Artzbesuche (pro Kopf)",
          "Belegungsrate Akutpflegebet",
          "Hospital beds",
          "Practising Medical Staff",
          "Krebs",
          "Schlaganfall",
          "Sterblichkeit",
          "Verhinderbare Sterblichkeitsrat"
         ],
         "yaxis": "y",
         "z": [
          [
           1,
           -0.166789966563934,
           -0.11025719554298373,
           0.7518881275127737,
           -0.1734662998304825,
           0.04564689370314176,
           0.007226145337307892,
           0.06801691031088204,
           -0.21251161800842594,
           0.12950553818988803,
           0.0023249767520591696,
           -0.1324215766935983
          ],
          [
           -0.166789966563934,
           1,
           0.7769801933863267,
           -0.14193119476757995,
           -0.13584200097687477,
           0.2393419580369368,
           -0.13335459639062408,
           0.6299296038448594,
           -0.10393859130445039,
           -0.6014789679393996,
           0.6046637610648932,
           -0.508696357483721
          ],
          [
           -0.11025719554298373,
           0.7769801933863267,
           1,
           -0.011388314233163437,
           -0.29187620427707456,
           0.4325054276610591,
           -0.2035876779860629,
           0.7470625291609112,
           -0.30654789508335,
           -0.7025389264970199,
           0.7417210313677376,
           -0.5539255218740691
          ],
          [
           0.7518881275127737,
           -0.14193119476757995,
           -0.011388314233163437,
           1,
           -0.23562444449835118,
           0.0755038917819884,
           -0.012112012285654766,
           0.2537684793832932,
           -0.24819554859662393,
           0.16721775056278035,
           -0.03362132420449107,
           -0.03823817208475666
          ],
          [
           -0.1734662998304825,
           -0.13584200097687477,
           -0.29187620427707456,
           -0.23562444449835118,
           1,
           -0.2350789530175144,
           0.44154019093455554,
           -0.27636056962629957,
           0.43569755190650217,
           0.23726842183358765,
           -0.4212847728295421,
           0.4063097751286926
          ],
          [
           0.04564689370314176,
           0.2393419580369368,
           0.4325054276610591,
           0.0755038917819884,
           -0.2350789530175144,
           1,
           -0.14959711370000206,
           0.2998290277085062,
           -0.07630656431279272,
           -0.3526603981642711,
           0.5328408380257461,
           -0.41474991768551184
          ],
          [
           0.007226145337307892,
           -0.13335459639062408,
           -0.2035876779860629,
           -0.012112012285654766,
           0.44154019093455554,
           -0.14959711370000206,
           1,
           -0.06445372984112553,
           0.32876284491027297,
           0.36665171308153194,
           -0.42740286368858005,
           0.480816104348787
          ],
          [
           0.06801691031088204,
           0.6299296038448594,
           0.7470625291609112,
           0.2537684793832932,
           -0.27636056962629957,
           0.2998290277085062,
           -0.06445372984112553,
           1,
           -0.23375917754994613,
           -0.46886916293138864,
           0.5850428731801504,
           -0.41541833841558706
          ],
          [
           -0.21251161800842594,
           -0.10393859130445039,
           -0.30654789508335,
           -0.24819554859662393,
           0.43569755190650217,
           -0.07630656431279272,
           0.32876284491027297,
           -0.23375917754994613,
           1,
           0.27425168632810515,
           -0.4756854218130684,
           0.49966099752884413
          ],
          [
           0.12950553818988803,
           -0.6014789679393996,
           -0.7025389264970199,
           0.16721775056278035,
           0.23726842183358765,
           -0.3526603981642711,
           0.36665171308153194,
           -0.46886916293138864,
           0.27425168632810515,
           1,
           -0.8431680610646075,
           0.6875512118535627
          ],
          [
           0.0023249767520591696,
           0.6046637610648932,
           0.7417210313677376,
           -0.03362132420449107,
           -0.4212847728295421,
           0.5328408380257461,
           -0.42740286368858005,
           0.5850428731801504,
           -0.4756854218130684,
           -0.8431680610646075,
           1,
           -0.798609067446484
          ],
          [
           -0.1324215766935983,
           -0.508696357483721,
           -0.5539255218740691,
           -0.03823817208475666,
           0.4063097751286926,
           -0.41474991768551184,
           0.480816104348787,
           -0.41541833841558706,
           0.49966099752884413,
           0.6875512118535627,
           -0.798609067446484,
           1
          ]
         ]
        }
       ],
       "layout": {
        "coloraxis": {
         "colorbar": {
          "title": {
           "text": "Correlation"
          }
         },
         "colorscale": [
          [
           0,
           "rgb(72, 169, 218)"
          ],
          [
           0.5,
           "rgb(248, 246, 245)"
          ],
          [
           1,
           "rgb(179, 6, 44)"
          ]
         ]
        },
        "height": 1000,
        "template": {
         "data": {
          "bar": [
           {
            "error_x": {
             "color": "#2a3f5f"
            },
            "error_y": {
             "color": "#2a3f5f"
            },
            "marker": {
             "line": {
              "color": "#E5ECF6",
              "width": 0.5
             },
             "pattern": {
              "fillmode": "overlay",
              "size": 10,
              "solidity": 0.2
             }
            },
            "type": "bar"
           }
          ],
          "barpolar": [
           {
            "marker": {
             "line": {
              "color": "#E5ECF6",
              "width": 0.5
             },
             "pattern": {
              "fillmode": "overlay",
              "size": 10,
              "solidity": 0.2
             }
            },
            "type": "barpolar"
           }
          ],
          "carpet": [
           {
            "aaxis": {
             "endlinecolor": "#2a3f5f",
             "gridcolor": "white",
             "linecolor": "white",
             "minorgridcolor": "white",
             "startlinecolor": "#2a3f5f"
            },
            "baxis": {
             "endlinecolor": "#2a3f5f",
             "gridcolor": "white",
             "linecolor": "white",
             "minorgridcolor": "white",
             "startlinecolor": "#2a3f5f"
            },
            "type": "carpet"
           }
          ],
          "choropleth": [
           {
            "colorbar": {
             "outlinewidth": 0,
             "ticks": ""
            },
            "type": "choropleth"
           }
          ],
          "contour": [
           {
            "colorbar": {
             "outlinewidth": 0,
             "ticks": ""
            },
            "colorscale": [
             [
              0,
              "#0d0887"
             ],
             [
              0.1111111111111111,
              "#46039f"
             ],
             [
              0.2222222222222222,
              "#7201a8"
             ],
             [
              0.3333333333333333,
              "#9c179e"
             ],
             [
              0.4444444444444444,
              "#bd3786"
             ],
             [
              0.5555555555555556,
              "#d8576b"
             ],
             [
              0.6666666666666666,
              "#ed7953"
             ],
             [
              0.7777777777777778,
              "#fb9f3a"
             ],
             [
              0.8888888888888888,
              "#fdca26"
             ],
             [
              1,
              "#f0f921"
             ]
            ],
            "type": "contour"
           }
          ],
          "contourcarpet": [
           {
            "colorbar": {
             "outlinewidth": 0,
             "ticks": ""
            },
            "type": "contourcarpet"
           }
          ],
          "heatmap": [
           {
            "colorbar": {
             "outlinewidth": 0,
             "ticks": ""
            },
            "colorscale": [
             [
              0,
              "#0d0887"
             ],
             [
              0.1111111111111111,
              "#46039f"
             ],
             [
              0.2222222222222222,
              "#7201a8"
             ],
             [
              0.3333333333333333,
              "#9c179e"
             ],
             [
              0.4444444444444444,
              "#bd3786"
             ],
             [
              0.5555555555555556,
              "#d8576b"
             ],
             [
              0.6666666666666666,
              "#ed7953"
             ],
             [
              0.7777777777777778,
              "#fb9f3a"
             ],
             [
              0.8888888888888888,
              "#fdca26"
             ],
             [
              1,
              "#f0f921"
             ]
            ],
            "type": "heatmap"
           }
          ],
          "heatmapgl": [
           {
            "colorbar": {
             "outlinewidth": 0,
             "ticks": ""
            },
            "colorscale": [
             [
              0,
              "#0d0887"
             ],
             [
              0.1111111111111111,
              "#46039f"
             ],
             [
              0.2222222222222222,
              "#7201a8"
             ],
             [
              0.3333333333333333,
              "#9c179e"
             ],
             [
              0.4444444444444444,
              "#bd3786"
             ],
             [
              0.5555555555555556,
              "#d8576b"
             ],
             [
              0.6666666666666666,
              "#ed7953"
             ],
             [
              0.7777777777777778,
              "#fb9f3a"
             ],
             [
              0.8888888888888888,
              "#fdca26"
             ],
             [
              1,
              "#f0f921"
             ]
            ],
            "type": "heatmapgl"
           }
          ],
          "histogram": [
           {
            "marker": {
             "pattern": {
              "fillmode": "overlay",
              "size": 10,
              "solidity": 0.2
             }
            },
            "type": "histogram"
           }
          ],
          "histogram2d": [
           {
            "colorbar": {
             "outlinewidth": 0,
             "ticks": ""
            },
            "colorscale": [
             [
              0,
              "#0d0887"
             ],
             [
              0.1111111111111111,
              "#46039f"
             ],
             [
              0.2222222222222222,
              "#7201a8"
             ],
             [
              0.3333333333333333,
              "#9c179e"
             ],
             [
              0.4444444444444444,
              "#bd3786"
             ],
             [
              0.5555555555555556,
              "#d8576b"
             ],
             [
              0.6666666666666666,
              "#ed7953"
             ],
             [
              0.7777777777777778,
              "#fb9f3a"
             ],
             [
              0.8888888888888888,
              "#fdca26"
             ],
             [
              1,
              "#f0f921"
             ]
            ],
            "type": "histogram2d"
           }
          ],
          "histogram2dcontour": [
           {
            "colorbar": {
             "outlinewidth": 0,
             "ticks": ""
            },
            "colorscale": [
             [
              0,
              "#0d0887"
             ],
             [
              0.1111111111111111,
              "#46039f"
             ],
             [
              0.2222222222222222,
              "#7201a8"
             ],
             [
              0.3333333333333333,
              "#9c179e"
             ],
             [
              0.4444444444444444,
              "#bd3786"
             ],
             [
              0.5555555555555556,
              "#d8576b"
             ],
             [
              0.6666666666666666,
              "#ed7953"
             ],
             [
              0.7777777777777778,
              "#fb9f3a"
             ],
             [
              0.8888888888888888,
              "#fdca26"
             ],
             [
              1,
              "#f0f921"
             ]
            ],
            "type": "histogram2dcontour"
           }
          ],
          "mesh3d": [
           {
            "colorbar": {
             "outlinewidth": 0,
             "ticks": ""
            },
            "type": "mesh3d"
           }
          ],
          "parcoords": [
           {
            "line": {
             "colorbar": {
              "outlinewidth": 0,
              "ticks": ""
             }
            },
            "type": "parcoords"
           }
          ],
          "pie": [
           {
            "automargin": true,
            "type": "pie"
           }
          ],
          "scatter": [
           {
            "fillpattern": {
             "fillmode": "overlay",
             "size": 10,
             "solidity": 0.2
            },
            "type": "scatter"
           }
          ],
          "scatter3d": [
           {
            "line": {
             "colorbar": {
              "outlinewidth": 0,
              "ticks": ""
             }
            },
            "marker": {
             "colorbar": {
              "outlinewidth": 0,
              "ticks": ""
             }
            },
            "type": "scatter3d"
           }
          ],
          "scattercarpet": [
           {
            "marker": {
             "colorbar": {
              "outlinewidth": 0,
              "ticks": ""
             }
            },
            "type": "scattercarpet"
           }
          ],
          "scattergeo": [
           {
            "marker": {
             "colorbar": {
              "outlinewidth": 0,
              "ticks": ""
             }
            },
            "type": "scattergeo"
           }
          ],
          "scattergl": [
           {
            "marker": {
             "colorbar": {
              "outlinewidth": 0,
              "ticks": ""
             }
            },
            "type": "scattergl"
           }
          ],
          "scattermapbox": [
           {
            "marker": {
             "colorbar": {
              "outlinewidth": 0,
              "ticks": ""
             }
            },
            "type": "scattermapbox"
           }
          ],
          "scatterpolar": [
           {
            "marker": {
             "colorbar": {
              "outlinewidth": 0,
              "ticks": ""
             }
            },
            "type": "scatterpolar"
           }
          ],
          "scatterpolargl": [
           {
            "marker": {
             "colorbar": {
              "outlinewidth": 0,
              "ticks": ""
             }
            },
            "type": "scatterpolargl"
           }
          ],
          "scatterternary": [
           {
            "marker": {
             "colorbar": {
              "outlinewidth": 0,
              "ticks": ""
             }
            },
            "type": "scatterternary"
           }
          ],
          "surface": [
           {
            "colorbar": {
             "outlinewidth": 0,
             "ticks": ""
            },
            "colorscale": [
             [
              0,
              "#0d0887"
             ],
             [
              0.1111111111111111,
              "#46039f"
             ],
             [
              0.2222222222222222,
              "#7201a8"
             ],
             [
              0.3333333333333333,
              "#9c179e"
             ],
             [
              0.4444444444444444,
              "#bd3786"
             ],
             [
              0.5555555555555556,
              "#d8576b"
             ],
             [
              0.6666666666666666,
              "#ed7953"
             ],
             [
              0.7777777777777778,
              "#fb9f3a"
             ],
             [
              0.8888888888888888,
              "#fdca26"
             ],
             [
              1,
              "#f0f921"
             ]
            ],
            "type": "surface"
           }
          ],
          "table": [
           {
            "cells": {
             "fill": {
              "color": "#EBF0F8"
             },
             "line": {
              "color": "white"
             }
            },
            "header": {
             "fill": {
              "color": "#C8D4E3"
             },
             "line": {
              "color": "white"
             }
            },
            "type": "table"
           }
          ]
         },
         "layout": {
          "annotationdefaults": {
           "arrowcolor": "#2a3f5f",
           "arrowhead": 0,
           "arrowwidth": 1
          },
          "autotypenumbers": "strict",
          "coloraxis": {
           "colorbar": {
            "outlinewidth": 0,
            "ticks": ""
           }
          },
          "colorscale": {
           "diverging": [
            [
             0,
             "#8e0152"
            ],
            [
             0.1,
             "#c51b7d"
            ],
            [
             0.2,
             "#de77ae"
            ],
            [
             0.3,
             "#f1b6da"
            ],
            [
             0.4,
             "#fde0ef"
            ],
            [
             0.5,
             "#f7f7f7"
            ],
            [
             0.6,
             "#e6f5d0"
            ],
            [
             0.7,
             "#b8e186"
            ],
            [
             0.8,
             "#7fbc41"
            ],
            [
             0.9,
             "#4d9221"
            ],
            [
             1,
             "#276419"
            ]
           ],
           "sequential": [
            [
             0,
             "#0d0887"
            ],
            [
             0.1111111111111111,
             "#46039f"
            ],
            [
             0.2222222222222222,
             "#7201a8"
            ],
            [
             0.3333333333333333,
             "#9c179e"
            ],
            [
             0.4444444444444444,
             "#bd3786"
            ],
            [
             0.5555555555555556,
             "#d8576b"
            ],
            [
             0.6666666666666666,
             "#ed7953"
            ],
            [
             0.7777777777777778,
             "#fb9f3a"
            ],
            [
             0.8888888888888888,
             "#fdca26"
            ],
            [
             1,
             "#f0f921"
            ]
           ],
           "sequentialminus": [
            [
             0,
             "#0d0887"
            ],
            [
             0.1111111111111111,
             "#46039f"
            ],
            [
             0.2222222222222222,
             "#7201a8"
            ],
            [
             0.3333333333333333,
             "#9c179e"
            ],
            [
             0.4444444444444444,
             "#bd3786"
            ],
            [
             0.5555555555555556,
             "#d8576b"
            ],
            [
             0.6666666666666666,
             "#ed7953"
            ],
            [
             0.7777777777777778,
             "#fb9f3a"
            ],
            [
             0.8888888888888888,
             "#fdca26"
            ],
            [
             1,
             "#f0f921"
            ]
           ]
          },
          "colorway": [
           "#636efa",
           "#EF553B",
           "#00cc96",
           "#ab63fa",
           "#FFA15A",
           "#19d3f3",
           "#FF6692",
           "#B6E880",
           "#FF97FF",
           "#FECB52"
          ],
          "font": {
           "color": "#2a3f5f"
          },
          "geo": {
           "bgcolor": "white",
           "lakecolor": "white",
           "landcolor": "#E5ECF6",
           "showlakes": true,
           "showland": true,
           "subunitcolor": "white"
          },
          "hoverlabel": {
           "align": "left"
          },
          "hovermode": "closest",
          "mapbox": {
           "style": "light"
          },
          "paper_bgcolor": "white",
          "plot_bgcolor": "#E5ECF6",
          "polar": {
           "angularaxis": {
            "gridcolor": "white",
            "linecolor": "white",
            "ticks": ""
           },
           "bgcolor": "#E5ECF6",
           "radialaxis": {
            "gridcolor": "white",
            "linecolor": "white",
            "ticks": ""
           }
          },
          "scene": {
           "xaxis": {
            "backgroundcolor": "#E5ECF6",
            "gridcolor": "white",
            "gridwidth": 2,
            "linecolor": "white",
            "showbackground": true,
            "ticks": "",
            "zerolinecolor": "white"
           },
           "yaxis": {
            "backgroundcolor": "#E5ECF6",
            "gridcolor": "white",
            "gridwidth": 2,
            "linecolor": "white",
            "showbackground": true,
            "ticks": "",
            "zerolinecolor": "white"
           },
           "zaxis": {
            "backgroundcolor": "#E5ECF6",
            "gridcolor": "white",
            "gridwidth": 2,
            "linecolor": "white",
            "showbackground": true,
            "ticks": "",
            "zerolinecolor": "white"
           }
          },
          "shapedefaults": {
           "line": {
            "color": "#2a3f5f"
           }
          },
          "ternary": {
           "aaxis": {
            "gridcolor": "white",
            "linecolor": "white",
            "ticks": ""
           },
           "baxis": {
            "gridcolor": "white",
            "linecolor": "white",
            "ticks": ""
           },
           "bgcolor": "#E5ECF6",
           "caxis": {
            "gridcolor": "white",
            "linecolor": "white",
            "ticks": ""
           }
          },
          "title": {
           "x": 0.05
          },
          "xaxis": {
           "automargin": true,
           "gridcolor": "white",
           "linecolor": "white",
           "ticks": "",
           "title": {
            "standoff": 15
           },
           "zerolinecolor": "white",
           "zerolinewidth": 2
          },
          "yaxis": {
           "automargin": true,
           "gridcolor": "white",
           "linecolor": "white",
           "ticks": "",
           "title": {
            "standoff": 15
           },
           "zerolinecolor": "white",
           "zerolinewidth": 2
          }
         }
        },
        "title": {
         "text": "Correlation Matrix"
        },
        "width": 1000,
        "xaxis": {
         "anchor": "y",
         "constrain": "domain",
         "domain": [
          0,
          1
         ],
         "scaleanchor": "y",
         "title": {
          "text": "Variable"
         }
        },
        "yaxis": {
         "anchor": "x",
         "autorange": "reversed",
         "constrain": "domain",
         "domain": [
          0,
          1
         ],
         "title": {
          "text": "Variable"
         }
        }
       }
      }
     },
     "metadata": {},
     "output_type": "display_data"
    }
   ],
   "source": [
    "corr_data = df_f.copy()\n",
    "\n",
    "corr_data['Krebs'] = (corr_data['Krebs M'] + corr_data['Krebs W']) / 2\n",
    "corr_data['Schlaganfall'] = (corr_data['Schlaganfall M'] + corr_data['Schlaganfall W']) / 2\n",
    "corr_data['Sterblichkeit'] = (corr_data['Sterblichkeit ab 65 M'] + corr_data['Sterblichkeit ab 65 W']) / 2\n",
    "corr_data['Practising Medical Staff'] = (corr_data['Practising doctors'] + corr_data['Professional nurses']) / 2\n",
    "\n",
    "corr_data = corr_data.drop(['Krebs M', 'Krebs W', 'Schlaganfall M', 'Schlaganfall W', 'Sterblichkeit ab 65 M', 'Sterblichkeit ab 65 W', 'Practising doctors', 'Professional nurses'], axis=1)\n",
    "corr_data = corr_data[['Anteil  BIP Private', 'Anteil BIP Public ', 'Gesundheitsausgaben pro Kopf', 'Out of Pocket', 'Artzbesuche (pro Kopf)', 'Belegungsrate Akutpflegebet', 'Hospital beds', 'Practising Medical Staff', 'Krebs', 'Schlaganfall', 'Sterblichkeit', 'Verhinderbare Sterblichkeitsrat']]\n",
    "\n",
    "colorscale = [[0, color_palette[13]], [0.5, color_palette[1]], [1, color_palette[5]]]\n",
    "\n",
    "fig = px.imshow(corr_data.corr(), title='Correlation Matrix', labels=dict(x='Variable', y='Variable', color='Correlation'), color_continuous_scale=colorscale)\n",
    "fig.update_layout(width=1000, height=1000)\n",
    "fig.show()"
   ]
  },
  {
   "cell_type": "code",
   "execution_count": 90,
   "metadata": {},
   "outputs": [
    {
     "data": {
      "text/plain": [
       "Jahr\n",
       "2006     1.25\n",
       "2007    10.40\n",
       "2008    24.20\n",
       "2009    18.75\n",
       "2010    28.95\n",
       "2011    29.90\n",
       "2012    30.65\n",
       "2013    32.00\n",
       "2014    33.15\n",
       "2015    33.35\n",
       "2016    34.10\n",
       "2017    34.75\n",
       "2018    34.20\n",
       "2019    34.30\n",
       "2020    35.45\n",
       "2021    32.70\n",
       "2022    35.90\n",
       "dtype: float64"
      ]
     },
     "execution_count": 90,
     "metadata": {},
     "output_type": "execute_result"
    }
   ],
   "source": [
    "# count data points per year\n",
    "df.groupby('Jahr').count().mean(axis=1)\n"
   ]
  },
  {
   "cell_type": "code",
   "execution_count": 12,
   "metadata": {},
   "outputs": [
    {
     "data": {
      "application/vnd.plotly.v1+json": {
       "config": {
        "plotlyServerURL": "https://plot.ly"
       },
       "data": [
        {
         "hovertemplate": "Codierung=0<br>Jahr=%{x}<br>value=%{y}<extra></extra>",
         "legendgroup": "0",
         "line": {
          "color": "rgb(77, 75, 70)",
          "dash": "solid"
         },
         "marker": {
          "symbol": "circle"
         },
         "mode": "lines",
         "name": "0",
         "orientation": "v",
         "showlegend": true,
         "type": "scatter",
         "x": [
          2011,
          2012,
          2013,
          2014,
          2015,
          2016,
          2017,
          2018,
          2019,
          2020,
          2021,
          2022
         ],
         "xaxis": "x",
         "y": [
          -0.36772120430207716,
          -0.3139979227933702,
          -0.320564128198538,
          -0.19553840842557152,
          -0.38866500869627535,
          -0.3753360815155901,
          -0.3695928917798893,
          -0.2987728040545892,
          -0.24780280575772665,
          -0.21916151757521207,
          -0.1706104393012458,
          0.0023534378129000553
         ],
         "yaxis": "y"
        },
        {
         "hovertemplate": "Codierung=1<br>Jahr=%{x}<br>value=%{y}<extra></extra>",
         "legendgroup": "1",
         "line": {
          "color": "rgb(134, 0, 71)",
          "dash": "solid"
         },
         "marker": {
          "symbol": "circle"
         },
         "mode": "lines",
         "name": "1",
         "orientation": "v",
         "showlegend": true,
         "type": "scatter",
         "x": [
          2011,
          2012,
          2013,
          2014,
          2015,
          2016,
          2017,
          2018,
          2019,
          2020,
          2021,
          2022
         ],
         "xaxis": "x",
         "y": [
          0.1387153861423609,
          0.15146436948243178,
          0.15146436948243178,
          0.14684712780477743,
          0.20158119636542873,
          0.20158119636542873,
          0.2131231650421424,
          0.28457773042387513,
          0.30038199831126183,
          0.49192686377499434,
          0.49192686377499434,
          0.38395406877257376
         ],
         "yaxis": "y"
        },
        {
         "hovertemplate": "Codierung=2<br>Jahr=%{x}<br>value=%{y}<extra></extra>",
         "legendgroup": "2",
         "line": {
          "color": "rgb(179, 6, 44)",
          "dash": "solid"
         },
         "marker": {
          "symbol": "circle"
         },
         "mode": "lines",
         "name": "2",
         "orientation": "v",
         "showlegend": true,
         "type": "scatter",
         "x": [
          2011,
          2012,
          2013,
          2014,
          2015,
          2016,
          2017,
          2018,
          2019,
          2020,
          2021,
          2022
         ],
         "xaxis": "x",
         "y": [
          0.07627729049329593,
          0.09486650049788628,
          0.09486650049788628,
          0.038551411998068205,
          0.1751153456082087,
          0.1751153456082087,
          0.18332846970951883,
          0.24933358190621088,
          -0.07578849905876058,
          0.06529962942447803,
          0.06529962942447803,
          -0.02124406905451723
         ],
         "yaxis": "y"
        },
        {
         "hovertemplate": "Codierung=3<br>Jahr=%{x}<br>value=%{y}<extra></extra>",
         "legendgroup": "3",
         "line": {
          "color": "rgb(115, 124, 69)",
          "dash": "solid"
         },
         "marker": {
          "symbol": "circle"
         },
         "mode": "lines",
         "name": "3",
         "orientation": "v",
         "showlegend": true,
         "type": "scatter",
         "x": [
          2011,
          2012,
          2013,
          2014,
          2015,
          2016,
          2017,
          2018,
          2019,
          2020,
          2021,
          2022
         ],
         "xaxis": "x",
         "y": [
          -0.29057583087040145,
          -0.26381288930140123,
          -0.26381288930140123,
          -0.2631404414288053,
          -0.3930895543686792,
          -0.3930895543686792,
          -0.38517050351728477,
          -0.3810678673750949,
          -0.36038053945114285,
          -0.03171156801085233,
          -0.03171156801085233,
          0.07082575754496978
         ],
         "yaxis": "y"
        },
        {
         "hovertemplate": "Codierung=4<br>Jahr=%{x}<br>value=%{y}<extra></extra>",
         "legendgroup": "4",
         "line": {
          "color": "rgb(165, 171, 82)",
          "dash": "solid"
         },
         "marker": {
          "symbol": "circle"
         },
         "mode": "lines",
         "name": "4",
         "orientation": "v",
         "showlegend": true,
         "type": "scatter",
         "x": [
          2011,
          2012,
          2013,
          2014,
          2015,
          2016,
          2017,
          2018,
          2019,
          2020,
          2021,
          2022
         ],
         "xaxis": "x",
         "y": [
          0.3969994024010792,
          0.44248624607999626,
          0.44248624607999626,
          0.4408964508444375,
          0.5199279507424673,
          0.5199279507424673,
          0.4923339496984763,
          0.7315593321886039,
          0.6708103859699602,
          0.7034189459072127,
          0.7034189459072127,
          0.7080306608154817
         ],
         "yaxis": "y"
        },
        {
         "hovertemplate": "Codierung=5<br>Jahr=%{x}<br>value=%{y}<extra></extra>",
         "legendgroup": "5",
         "line": {
          "color": "rgb(72, 169, 218)",
          "dash": "solid"
         },
         "marker": {
          "symbol": "circle"
         },
         "mode": "lines",
         "name": "5",
         "orientation": "v",
         "showlegend": true,
         "type": "scatter",
         "x": [
          2011,
          2012,
          2013,
          2014,
          2015,
          2016,
          2017,
          2018,
          2019,
          2020,
          2021,
          2022
         ],
         "xaxis": "x",
         "y": [
          -0.19616926776367052,
          -0.1775579058085386,
          -0.1775579058085386,
          -0.18493095968358322,
          -0.2789131309923335,
          -0.2789131309923335,
          -0.26124051359189726,
          -0.21573065288421628,
          -0.21936445223675632,
          -0.0718483555074722,
          -0.0718483555074722,
          -0.056506889680658104
         ],
         "yaxis": "y"
        }
       ],
       "layout": {
        "legend": {
         "title": {
          "text": "Codierung"
         },
         "tracegroupgap": 0
        },
        "template": {
         "data": {
          "bar": [
           {
            "error_x": {
             "color": "#2a3f5f"
            },
            "error_y": {
             "color": "#2a3f5f"
            },
            "marker": {
             "line": {
              "color": "#E5ECF6",
              "width": 0.5
             },
             "pattern": {
              "fillmode": "overlay",
              "size": 10,
              "solidity": 0.2
             }
            },
            "type": "bar"
           }
          ],
          "barpolar": [
           {
            "marker": {
             "line": {
              "color": "#E5ECF6",
              "width": 0.5
             },
             "pattern": {
              "fillmode": "overlay",
              "size": 10,
              "solidity": 0.2
             }
            },
            "type": "barpolar"
           }
          ],
          "carpet": [
           {
            "aaxis": {
             "endlinecolor": "#2a3f5f",
             "gridcolor": "white",
             "linecolor": "white",
             "minorgridcolor": "white",
             "startlinecolor": "#2a3f5f"
            },
            "baxis": {
             "endlinecolor": "#2a3f5f",
             "gridcolor": "white",
             "linecolor": "white",
             "minorgridcolor": "white",
             "startlinecolor": "#2a3f5f"
            },
            "type": "carpet"
           }
          ],
          "choropleth": [
           {
            "colorbar": {
             "outlinewidth": 0,
             "ticks": ""
            },
            "type": "choropleth"
           }
          ],
          "contour": [
           {
            "colorbar": {
             "outlinewidth": 0,
             "ticks": ""
            },
            "colorscale": [
             [
              0,
              "#0d0887"
             ],
             [
              0.1111111111111111,
              "#46039f"
             ],
             [
              0.2222222222222222,
              "#7201a8"
             ],
             [
              0.3333333333333333,
              "#9c179e"
             ],
             [
              0.4444444444444444,
              "#bd3786"
             ],
             [
              0.5555555555555556,
              "#d8576b"
             ],
             [
              0.6666666666666666,
              "#ed7953"
             ],
             [
              0.7777777777777778,
              "#fb9f3a"
             ],
             [
              0.8888888888888888,
              "#fdca26"
             ],
             [
              1,
              "#f0f921"
             ]
            ],
            "type": "contour"
           }
          ],
          "contourcarpet": [
           {
            "colorbar": {
             "outlinewidth": 0,
             "ticks": ""
            },
            "type": "contourcarpet"
           }
          ],
          "heatmap": [
           {
            "colorbar": {
             "outlinewidth": 0,
             "ticks": ""
            },
            "colorscale": [
             [
              0,
              "#0d0887"
             ],
             [
              0.1111111111111111,
              "#46039f"
             ],
             [
              0.2222222222222222,
              "#7201a8"
             ],
             [
              0.3333333333333333,
              "#9c179e"
             ],
             [
              0.4444444444444444,
              "#bd3786"
             ],
             [
              0.5555555555555556,
              "#d8576b"
             ],
             [
              0.6666666666666666,
              "#ed7953"
             ],
             [
              0.7777777777777778,
              "#fb9f3a"
             ],
             [
              0.8888888888888888,
              "#fdca26"
             ],
             [
              1,
              "#f0f921"
             ]
            ],
            "type": "heatmap"
           }
          ],
          "heatmapgl": [
           {
            "colorbar": {
             "outlinewidth": 0,
             "ticks": ""
            },
            "colorscale": [
             [
              0,
              "#0d0887"
             ],
             [
              0.1111111111111111,
              "#46039f"
             ],
             [
              0.2222222222222222,
              "#7201a8"
             ],
             [
              0.3333333333333333,
              "#9c179e"
             ],
             [
              0.4444444444444444,
              "#bd3786"
             ],
             [
              0.5555555555555556,
              "#d8576b"
             ],
             [
              0.6666666666666666,
              "#ed7953"
             ],
             [
              0.7777777777777778,
              "#fb9f3a"
             ],
             [
              0.8888888888888888,
              "#fdca26"
             ],
             [
              1,
              "#f0f921"
             ]
            ],
            "type": "heatmapgl"
           }
          ],
          "histogram": [
           {
            "marker": {
             "pattern": {
              "fillmode": "overlay",
              "size": 10,
              "solidity": 0.2
             }
            },
            "type": "histogram"
           }
          ],
          "histogram2d": [
           {
            "colorbar": {
             "outlinewidth": 0,
             "ticks": ""
            },
            "colorscale": [
             [
              0,
              "#0d0887"
             ],
             [
              0.1111111111111111,
              "#46039f"
             ],
             [
              0.2222222222222222,
              "#7201a8"
             ],
             [
              0.3333333333333333,
              "#9c179e"
             ],
             [
              0.4444444444444444,
              "#bd3786"
             ],
             [
              0.5555555555555556,
              "#d8576b"
             ],
             [
              0.6666666666666666,
              "#ed7953"
             ],
             [
              0.7777777777777778,
              "#fb9f3a"
             ],
             [
              0.8888888888888888,
              "#fdca26"
             ],
             [
              1,
              "#f0f921"
             ]
            ],
            "type": "histogram2d"
           }
          ],
          "histogram2dcontour": [
           {
            "colorbar": {
             "outlinewidth": 0,
             "ticks": ""
            },
            "colorscale": [
             [
              0,
              "#0d0887"
             ],
             [
              0.1111111111111111,
              "#46039f"
             ],
             [
              0.2222222222222222,
              "#7201a8"
             ],
             [
              0.3333333333333333,
              "#9c179e"
             ],
             [
              0.4444444444444444,
              "#bd3786"
             ],
             [
              0.5555555555555556,
              "#d8576b"
             ],
             [
              0.6666666666666666,
              "#ed7953"
             ],
             [
              0.7777777777777778,
              "#fb9f3a"
             ],
             [
              0.8888888888888888,
              "#fdca26"
             ],
             [
              1,
              "#f0f921"
             ]
            ],
            "type": "histogram2dcontour"
           }
          ],
          "mesh3d": [
           {
            "colorbar": {
             "outlinewidth": 0,
             "ticks": ""
            },
            "type": "mesh3d"
           }
          ],
          "parcoords": [
           {
            "line": {
             "colorbar": {
              "outlinewidth": 0,
              "ticks": ""
             }
            },
            "type": "parcoords"
           }
          ],
          "pie": [
           {
            "automargin": true,
            "type": "pie"
           }
          ],
          "scatter": [
           {
            "fillpattern": {
             "fillmode": "overlay",
             "size": 10,
             "solidity": 0.2
            },
            "type": "scatter"
           }
          ],
          "scatter3d": [
           {
            "line": {
             "colorbar": {
              "outlinewidth": 0,
              "ticks": ""
             }
            },
            "marker": {
             "colorbar": {
              "outlinewidth": 0,
              "ticks": ""
             }
            },
            "type": "scatter3d"
           }
          ],
          "scattercarpet": [
           {
            "marker": {
             "colorbar": {
              "outlinewidth": 0,
              "ticks": ""
             }
            },
            "type": "scattercarpet"
           }
          ],
          "scattergeo": [
           {
            "marker": {
             "colorbar": {
              "outlinewidth": 0,
              "ticks": ""
             }
            },
            "type": "scattergeo"
           }
          ],
          "scattergl": [
           {
            "marker": {
             "colorbar": {
              "outlinewidth": 0,
              "ticks": ""
             }
            },
            "type": "scattergl"
           }
          ],
          "scattermapbox": [
           {
            "marker": {
             "colorbar": {
              "outlinewidth": 0,
              "ticks": ""
             }
            },
            "type": "scattermapbox"
           }
          ],
          "scatterpolar": [
           {
            "marker": {
             "colorbar": {
              "outlinewidth": 0,
              "ticks": ""
             }
            },
            "type": "scatterpolar"
           }
          ],
          "scatterpolargl": [
           {
            "marker": {
             "colorbar": {
              "outlinewidth": 0,
              "ticks": ""
             }
            },
            "type": "scatterpolargl"
           }
          ],
          "scatterternary": [
           {
            "marker": {
             "colorbar": {
              "outlinewidth": 0,
              "ticks": ""
             }
            },
            "type": "scatterternary"
           }
          ],
          "surface": [
           {
            "colorbar": {
             "outlinewidth": 0,
             "ticks": ""
            },
            "colorscale": [
             [
              0,
              "#0d0887"
             ],
             [
              0.1111111111111111,
              "#46039f"
             ],
             [
              0.2222222222222222,
              "#7201a8"
             ],
             [
              0.3333333333333333,
              "#9c179e"
             ],
             [
              0.4444444444444444,
              "#bd3786"
             ],
             [
              0.5555555555555556,
              "#d8576b"
             ],
             [
              0.6666666666666666,
              "#ed7953"
             ],
             [
              0.7777777777777778,
              "#fb9f3a"
             ],
             [
              0.8888888888888888,
              "#fdca26"
             ],
             [
              1,
              "#f0f921"
             ]
            ],
            "type": "surface"
           }
          ],
          "table": [
           {
            "cells": {
             "fill": {
              "color": "#EBF0F8"
             },
             "line": {
              "color": "white"
             }
            },
            "header": {
             "fill": {
              "color": "#C8D4E3"
             },
             "line": {
              "color": "white"
             }
            },
            "type": "table"
           }
          ]
         },
         "layout": {
          "annotationdefaults": {
           "arrowcolor": "#2a3f5f",
           "arrowhead": 0,
           "arrowwidth": 1
          },
          "autotypenumbers": "strict",
          "coloraxis": {
           "colorbar": {
            "outlinewidth": 0,
            "ticks": ""
           }
          },
          "colorscale": {
           "diverging": [
            [
             0,
             "#8e0152"
            ],
            [
             0.1,
             "#c51b7d"
            ],
            [
             0.2,
             "#de77ae"
            ],
            [
             0.3,
             "#f1b6da"
            ],
            [
             0.4,
             "#fde0ef"
            ],
            [
             0.5,
             "#f7f7f7"
            ],
            [
             0.6,
             "#e6f5d0"
            ],
            [
             0.7,
             "#b8e186"
            ],
            [
             0.8,
             "#7fbc41"
            ],
            [
             0.9,
             "#4d9221"
            ],
            [
             1,
             "#276419"
            ]
           ],
           "sequential": [
            [
             0,
             "#0d0887"
            ],
            [
             0.1111111111111111,
             "#46039f"
            ],
            [
             0.2222222222222222,
             "#7201a8"
            ],
            [
             0.3333333333333333,
             "#9c179e"
            ],
            [
             0.4444444444444444,
             "#bd3786"
            ],
            [
             0.5555555555555556,
             "#d8576b"
            ],
            [
             0.6666666666666666,
             "#ed7953"
            ],
            [
             0.7777777777777778,
             "#fb9f3a"
            ],
            [
             0.8888888888888888,
             "#fdca26"
            ],
            [
             1,
             "#f0f921"
            ]
           ],
           "sequentialminus": [
            [
             0,
             "#0d0887"
            ],
            [
             0.1111111111111111,
             "#46039f"
            ],
            [
             0.2222222222222222,
             "#7201a8"
            ],
            [
             0.3333333333333333,
             "#9c179e"
            ],
            [
             0.4444444444444444,
             "#bd3786"
            ],
            [
             0.5555555555555556,
             "#d8576b"
            ],
            [
             0.6666666666666666,
             "#ed7953"
            ],
            [
             0.7777777777777778,
             "#fb9f3a"
            ],
            [
             0.8888888888888888,
             "#fdca26"
            ],
            [
             1,
             "#f0f921"
            ]
           ]
          },
          "colorway": [
           "#636efa",
           "#EF553B",
           "#00cc96",
           "#ab63fa",
           "#FFA15A",
           "#19d3f3",
           "#FF6692",
           "#B6E880",
           "#FF97FF",
           "#FECB52"
          ],
          "font": {
           "color": "#2a3f5f"
          },
          "geo": {
           "bgcolor": "white",
           "lakecolor": "white",
           "landcolor": "#E5ECF6",
           "showlakes": true,
           "showland": true,
           "subunitcolor": "white"
          },
          "hoverlabel": {
           "align": "left"
          },
          "hovermode": "closest",
          "mapbox": {
           "style": "light"
          },
          "paper_bgcolor": "white",
          "plot_bgcolor": "#E5ECF6",
          "polar": {
           "angularaxis": {
            "gridcolor": "white",
            "linecolor": "white",
            "ticks": ""
           },
           "bgcolor": "#E5ECF6",
           "radialaxis": {
            "gridcolor": "white",
            "linecolor": "white",
            "ticks": ""
           }
          },
          "scene": {
           "xaxis": {
            "backgroundcolor": "#E5ECF6",
            "gridcolor": "white",
            "gridwidth": 2,
            "linecolor": "white",
            "showbackground": true,
            "ticks": "",
            "zerolinecolor": "white"
           },
           "yaxis": {
            "backgroundcolor": "#E5ECF6",
            "gridcolor": "white",
            "gridwidth": 2,
            "linecolor": "white",
            "showbackground": true,
            "ticks": "",
            "zerolinecolor": "white"
           },
           "zaxis": {
            "backgroundcolor": "#E5ECF6",
            "gridcolor": "white",
            "gridwidth": 2,
            "linecolor": "white",
            "showbackground": true,
            "ticks": "",
            "zerolinecolor": "white"
           }
          },
          "shapedefaults": {
           "line": {
            "color": "#2a3f5f"
           }
          },
          "ternary": {
           "aaxis": {
            "gridcolor": "white",
            "linecolor": "white",
            "ticks": ""
           },
           "baxis": {
            "gridcolor": "white",
            "linecolor": "white",
            "ticks": ""
           },
           "bgcolor": "#E5ECF6",
           "caxis": {
            "gridcolor": "white",
            "linecolor": "white",
            "ticks": ""
           }
          },
          "title": {
           "x": 0.05
          },
          "xaxis": {
           "automargin": true,
           "gridcolor": "white",
           "linecolor": "white",
           "ticks": "",
           "title": {
            "standoff": 15
           },
           "zerolinecolor": "white",
           "zerolinewidth": 2
          },
          "yaxis": {
           "automargin": true,
           "gridcolor": "white",
           "linecolor": "white",
           "ticks": "",
           "title": {
            "standoff": 15
           },
           "zerolinecolor": "white",
           "zerolinewidth": 2
          }
         }
        },
        "title": {
         "text": "Kosten"
        },
        "xaxis": {
         "anchor": "y",
         "domain": [
          0,
          1
         ],
         "title": {
          "text": "Jahr"
         }
        },
        "yaxis": {
         "anchor": "x",
         "domain": [
          0,
          1
         ],
         "title": {
          "text": "value"
         }
        }
       }
      }
     },
     "metadata": {},
     "output_type": "display_data"
    },
    {
     "data": {
      "application/vnd.plotly.v1+json": {
       "config": {
        "plotlyServerURL": "https://plot.ly"
       },
       "data": [
        {
         "hovertemplate": "Codierung=0<br>Jahr=%{x}<br>value=%{y}<extra></extra>",
         "legendgroup": "0",
         "line": {
          "color": "rgb(77, 75, 70)",
          "dash": "solid"
         },
         "marker": {
          "symbol": "circle"
         },
         "mode": "lines",
         "name": "0",
         "orientation": "v",
         "showlegend": true,
         "type": "scatter",
         "x": [
          2011,
          2012,
          2013,
          2014,
          2015,
          2016,
          2017,
          2018,
          2019,
          2020,
          2021,
          2022
         ],
         "xaxis": "x",
         "y": [
          -0.3918049478895375,
          -0.2662064514802206,
          -0.20064036905784174,
          -0.1928997558710197,
          -0.1928997558710197,
          -0.16279144293171752,
          -0.16279144293171752,
          -0.10988977322103066,
          -0.11598691181465658,
          -0.060615273175803557,
          0.1226214174636399,
          0.059513547536933484
         ],
         "yaxis": "y"
        },
        {
         "hovertemplate": "Codierung=1<br>Jahr=%{x}<br>value=%{y}<extra></extra>",
         "legendgroup": "1",
         "line": {
          "color": "rgb(134, 0, 71)",
          "dash": "solid"
         },
         "marker": {
          "symbol": "circle"
         },
         "mode": "lines",
         "name": "1",
         "orientation": "v",
         "showlegend": true,
         "type": "scatter",
         "x": [
          2011,
          2012,
          2013,
          2014,
          2015,
          2016,
          2017,
          2018,
          2019,
          2020,
          2021,
          2022
         ],
         "xaxis": "x",
         "y": [
          -0.0956443890827213,
          -0.17083196313684568,
          -0.15446898464628003,
          -0.14540165227545584,
          -0.14540165227545584,
          -0.17927329862297814,
          -0.17927329862297814,
          -0.2066210081368129,
          -0.2718021418903057,
          -0.1608986809543312,
          -0.04431928688597089,
          0.03747557098926625
         ],
         "yaxis": "y"
        },
        {
         "hovertemplate": "Codierung=2<br>Jahr=%{x}<br>value=%{y}<extra></extra>",
         "legendgroup": "2",
         "line": {
          "color": "rgb(179, 6, 44)",
          "dash": "solid"
         },
         "marker": {
          "symbol": "circle"
         },
         "mode": "lines",
         "name": "2",
         "orientation": "v",
         "showlegend": true,
         "type": "scatter",
         "x": [
          2011,
          2012,
          2013,
          2014,
          2015,
          2016,
          2017,
          2018,
          2019,
          2020,
          2021,
          2022
         ],
         "xaxis": "x",
         "y": [
          -0.38869464718280666,
          -0.3586957647236697,
          -0.3871966192996601,
          -0.4178593737005802,
          -0.31554951285536786,
          -0.5805843946814249,
          -0.5805843946814249,
          -0.5078642420838473,
          -0.33766795292410196,
          -0.285614223235115,
          -0.285614223235115,
          -0.28268396630203263
         ],
         "yaxis": "y"
        },
        {
         "hovertemplate": "Codierung=3<br>Jahr=%{x}<br>value=%{y}<extra></extra>",
         "legendgroup": "3",
         "line": {
          "color": "rgb(115, 124, 69)",
          "dash": "solid"
         },
         "marker": {
          "symbol": "circle"
         },
         "mode": "lines",
         "name": "3",
         "orientation": "v",
         "showlegend": true,
         "type": "scatter",
         "x": [
          2011,
          2012,
          2013,
          2014,
          2015,
          2016,
          2017,
          2018,
          2019,
          2020,
          2021,
          2022
         ],
         "xaxis": "x",
         "y": [
          -0.3734966260306179,
          -0.3543863722359389,
          -0.3543863722359389,
          -0.2298191911720031,
          -0.2298191911720031,
          -0.0806225169317666,
          -0.0806225169317666,
          -0.02994445418816568,
          0.011062710976210732,
          0.11316496753454193,
          0.2768607448868815,
          -0.0334380994242995
         ],
         "yaxis": "y"
        },
        {
         "hovertemplate": "Codierung=4<br>Jahr=%{x}<br>value=%{y}<extra></extra>",
         "legendgroup": "4",
         "line": {
          "color": "rgb(165, 171, 82)",
          "dash": "solid"
         },
         "marker": {
          "symbol": "circle"
         },
         "mode": "lines",
         "name": "4",
         "orientation": "v",
         "showlegend": true,
         "type": "scatter",
         "x": [
          2011,
          2012,
          2013,
          2014,
          2015,
          2016,
          2017,
          2018,
          2019,
          2020,
          2021,
          2022
         ],
         "xaxis": "x",
         "y": [
          0.5550451519353504,
          0.5424323781370146,
          0.5424323781370146,
          0.6814980639690053,
          0.6814980639690053,
          0.38901506455133505,
          0.38901506455133505,
          0.3991417026104453,
          0.3678464687715746,
          0.5247697566298066,
          0.5463086747024829,
          0.3342552685351541
         ],
         "yaxis": "y"
        },
        {
         "hovertemplate": "Codierung=5<br>Jahr=%{x}<br>value=%{y}<extra></extra>",
         "legendgroup": "5",
         "line": {
          "color": "rgb(72, 169, 218)",
          "dash": "solid"
         },
         "marker": {
          "symbol": "circle"
         },
         "mode": "lines",
         "name": "5",
         "orientation": "v",
         "showlegend": true,
         "type": "scatter",
         "x": [
          2011,
          2012,
          2013,
          2014,
          2015,
          2016,
          2017,
          2018,
          2019,
          2020,
          2021,
          2022
         ],
         "xaxis": "x",
         "y": [
          0.30446279381467745,
          0.2679619314605396,
          0.2686849004807289,
          0.28875388800500845,
          0.28875388800500845,
          0.19951127321655698,
          0.19951127321655698,
          0.13738316695806957,
          0.16735371713085667,
          0.28470424610242206,
          0.3751677020076625,
          0.17444119053422635
         ],
         "yaxis": "y"
        }
       ],
       "layout": {
        "legend": {
         "title": {
          "text": "Codierung"
         },
         "tracegroupgap": 0
        },
        "template": {
         "data": {
          "bar": [
           {
            "error_x": {
             "color": "#2a3f5f"
            },
            "error_y": {
             "color": "#2a3f5f"
            },
            "marker": {
             "line": {
              "color": "#E5ECF6",
              "width": 0.5
             },
             "pattern": {
              "fillmode": "overlay",
              "size": 10,
              "solidity": 0.2
             }
            },
            "type": "bar"
           }
          ],
          "barpolar": [
           {
            "marker": {
             "line": {
              "color": "#E5ECF6",
              "width": 0.5
             },
             "pattern": {
              "fillmode": "overlay",
              "size": 10,
              "solidity": 0.2
             }
            },
            "type": "barpolar"
           }
          ],
          "carpet": [
           {
            "aaxis": {
             "endlinecolor": "#2a3f5f",
             "gridcolor": "white",
             "linecolor": "white",
             "minorgridcolor": "white",
             "startlinecolor": "#2a3f5f"
            },
            "baxis": {
             "endlinecolor": "#2a3f5f",
             "gridcolor": "white",
             "linecolor": "white",
             "minorgridcolor": "white",
             "startlinecolor": "#2a3f5f"
            },
            "type": "carpet"
           }
          ],
          "choropleth": [
           {
            "colorbar": {
             "outlinewidth": 0,
             "ticks": ""
            },
            "type": "choropleth"
           }
          ],
          "contour": [
           {
            "colorbar": {
             "outlinewidth": 0,
             "ticks": ""
            },
            "colorscale": [
             [
              0,
              "#0d0887"
             ],
             [
              0.1111111111111111,
              "#46039f"
             ],
             [
              0.2222222222222222,
              "#7201a8"
             ],
             [
              0.3333333333333333,
              "#9c179e"
             ],
             [
              0.4444444444444444,
              "#bd3786"
             ],
             [
              0.5555555555555556,
              "#d8576b"
             ],
             [
              0.6666666666666666,
              "#ed7953"
             ],
             [
              0.7777777777777778,
              "#fb9f3a"
             ],
             [
              0.8888888888888888,
              "#fdca26"
             ],
             [
              1,
              "#f0f921"
             ]
            ],
            "type": "contour"
           }
          ],
          "contourcarpet": [
           {
            "colorbar": {
             "outlinewidth": 0,
             "ticks": ""
            },
            "type": "contourcarpet"
           }
          ],
          "heatmap": [
           {
            "colorbar": {
             "outlinewidth": 0,
             "ticks": ""
            },
            "colorscale": [
             [
              0,
              "#0d0887"
             ],
             [
              0.1111111111111111,
              "#46039f"
             ],
             [
              0.2222222222222222,
              "#7201a8"
             ],
             [
              0.3333333333333333,
              "#9c179e"
             ],
             [
              0.4444444444444444,
              "#bd3786"
             ],
             [
              0.5555555555555556,
              "#d8576b"
             ],
             [
              0.6666666666666666,
              "#ed7953"
             ],
             [
              0.7777777777777778,
              "#fb9f3a"
             ],
             [
              0.8888888888888888,
              "#fdca26"
             ],
             [
              1,
              "#f0f921"
             ]
            ],
            "type": "heatmap"
           }
          ],
          "heatmapgl": [
           {
            "colorbar": {
             "outlinewidth": 0,
             "ticks": ""
            },
            "colorscale": [
             [
              0,
              "#0d0887"
             ],
             [
              0.1111111111111111,
              "#46039f"
             ],
             [
              0.2222222222222222,
              "#7201a8"
             ],
             [
              0.3333333333333333,
              "#9c179e"
             ],
             [
              0.4444444444444444,
              "#bd3786"
             ],
             [
              0.5555555555555556,
              "#d8576b"
             ],
             [
              0.6666666666666666,
              "#ed7953"
             ],
             [
              0.7777777777777778,
              "#fb9f3a"
             ],
             [
              0.8888888888888888,
              "#fdca26"
             ],
             [
              1,
              "#f0f921"
             ]
            ],
            "type": "heatmapgl"
           }
          ],
          "histogram": [
           {
            "marker": {
             "pattern": {
              "fillmode": "overlay",
              "size": 10,
              "solidity": 0.2
             }
            },
            "type": "histogram"
           }
          ],
          "histogram2d": [
           {
            "colorbar": {
             "outlinewidth": 0,
             "ticks": ""
            },
            "colorscale": [
             [
              0,
              "#0d0887"
             ],
             [
              0.1111111111111111,
              "#46039f"
             ],
             [
              0.2222222222222222,
              "#7201a8"
             ],
             [
              0.3333333333333333,
              "#9c179e"
             ],
             [
              0.4444444444444444,
              "#bd3786"
             ],
             [
              0.5555555555555556,
              "#d8576b"
             ],
             [
              0.6666666666666666,
              "#ed7953"
             ],
             [
              0.7777777777777778,
              "#fb9f3a"
             ],
             [
              0.8888888888888888,
              "#fdca26"
             ],
             [
              1,
              "#f0f921"
             ]
            ],
            "type": "histogram2d"
           }
          ],
          "histogram2dcontour": [
           {
            "colorbar": {
             "outlinewidth": 0,
             "ticks": ""
            },
            "colorscale": [
             [
              0,
              "#0d0887"
             ],
             [
              0.1111111111111111,
              "#46039f"
             ],
             [
              0.2222222222222222,
              "#7201a8"
             ],
             [
              0.3333333333333333,
              "#9c179e"
             ],
             [
              0.4444444444444444,
              "#bd3786"
             ],
             [
              0.5555555555555556,
              "#d8576b"
             ],
             [
              0.6666666666666666,
              "#ed7953"
             ],
             [
              0.7777777777777778,
              "#fb9f3a"
             ],
             [
              0.8888888888888888,
              "#fdca26"
             ],
             [
              1,
              "#f0f921"
             ]
            ],
            "type": "histogram2dcontour"
           }
          ],
          "mesh3d": [
           {
            "colorbar": {
             "outlinewidth": 0,
             "ticks": ""
            },
            "type": "mesh3d"
           }
          ],
          "parcoords": [
           {
            "line": {
             "colorbar": {
              "outlinewidth": 0,
              "ticks": ""
             }
            },
            "type": "parcoords"
           }
          ],
          "pie": [
           {
            "automargin": true,
            "type": "pie"
           }
          ],
          "scatter": [
           {
            "fillpattern": {
             "fillmode": "overlay",
             "size": 10,
             "solidity": 0.2
            },
            "type": "scatter"
           }
          ],
          "scatter3d": [
           {
            "line": {
             "colorbar": {
              "outlinewidth": 0,
              "ticks": ""
             }
            },
            "marker": {
             "colorbar": {
              "outlinewidth": 0,
              "ticks": ""
             }
            },
            "type": "scatter3d"
           }
          ],
          "scattercarpet": [
           {
            "marker": {
             "colorbar": {
              "outlinewidth": 0,
              "ticks": ""
             }
            },
            "type": "scattercarpet"
           }
          ],
          "scattergeo": [
           {
            "marker": {
             "colorbar": {
              "outlinewidth": 0,
              "ticks": ""
             }
            },
            "type": "scattergeo"
           }
          ],
          "scattergl": [
           {
            "marker": {
             "colorbar": {
              "outlinewidth": 0,
              "ticks": ""
             }
            },
            "type": "scattergl"
           }
          ],
          "scattermapbox": [
           {
            "marker": {
             "colorbar": {
              "outlinewidth": 0,
              "ticks": ""
             }
            },
            "type": "scattermapbox"
           }
          ],
          "scatterpolar": [
           {
            "marker": {
             "colorbar": {
              "outlinewidth": 0,
              "ticks": ""
             }
            },
            "type": "scatterpolar"
           }
          ],
          "scatterpolargl": [
           {
            "marker": {
             "colorbar": {
              "outlinewidth": 0,
              "ticks": ""
             }
            },
            "type": "scatterpolargl"
           }
          ],
          "scatterternary": [
           {
            "marker": {
             "colorbar": {
              "outlinewidth": 0,
              "ticks": ""
             }
            },
            "type": "scatterternary"
           }
          ],
          "surface": [
           {
            "colorbar": {
             "outlinewidth": 0,
             "ticks": ""
            },
            "colorscale": [
             [
              0,
              "#0d0887"
             ],
             [
              0.1111111111111111,
              "#46039f"
             ],
             [
              0.2222222222222222,
              "#7201a8"
             ],
             [
              0.3333333333333333,
              "#9c179e"
             ],
             [
              0.4444444444444444,
              "#bd3786"
             ],
             [
              0.5555555555555556,
              "#d8576b"
             ],
             [
              0.6666666666666666,
              "#ed7953"
             ],
             [
              0.7777777777777778,
              "#fb9f3a"
             ],
             [
              0.8888888888888888,
              "#fdca26"
             ],
             [
              1,
              "#f0f921"
             ]
            ],
            "type": "surface"
           }
          ],
          "table": [
           {
            "cells": {
             "fill": {
              "color": "#EBF0F8"
             },
             "line": {
              "color": "white"
             }
            },
            "header": {
             "fill": {
              "color": "#C8D4E3"
             },
             "line": {
              "color": "white"
             }
            },
            "type": "table"
           }
          ]
         },
         "layout": {
          "annotationdefaults": {
           "arrowcolor": "#2a3f5f",
           "arrowhead": 0,
           "arrowwidth": 1
          },
          "autotypenumbers": "strict",
          "coloraxis": {
           "colorbar": {
            "outlinewidth": 0,
            "ticks": ""
           }
          },
          "colorscale": {
           "diverging": [
            [
             0,
             "#8e0152"
            ],
            [
             0.1,
             "#c51b7d"
            ],
            [
             0.2,
             "#de77ae"
            ],
            [
             0.3,
             "#f1b6da"
            ],
            [
             0.4,
             "#fde0ef"
            ],
            [
             0.5,
             "#f7f7f7"
            ],
            [
             0.6,
             "#e6f5d0"
            ],
            [
             0.7,
             "#b8e186"
            ],
            [
             0.8,
             "#7fbc41"
            ],
            [
             0.9,
             "#4d9221"
            ],
            [
             1,
             "#276419"
            ]
           ],
           "sequential": [
            [
             0,
             "#0d0887"
            ],
            [
             0.1111111111111111,
             "#46039f"
            ],
            [
             0.2222222222222222,
             "#7201a8"
            ],
            [
             0.3333333333333333,
             "#9c179e"
            ],
            [
             0.4444444444444444,
             "#bd3786"
            ],
            [
             0.5555555555555556,
             "#d8576b"
            ],
            [
             0.6666666666666666,
             "#ed7953"
            ],
            [
             0.7777777777777778,
             "#fb9f3a"
            ],
            [
             0.8888888888888888,
             "#fdca26"
            ],
            [
             1,
             "#f0f921"
            ]
           ],
           "sequentialminus": [
            [
             0,
             "#0d0887"
            ],
            [
             0.1111111111111111,
             "#46039f"
            ],
            [
             0.2222222222222222,
             "#7201a8"
            ],
            [
             0.3333333333333333,
             "#9c179e"
            ],
            [
             0.4444444444444444,
             "#bd3786"
            ],
            [
             0.5555555555555556,
             "#d8576b"
            ],
            [
             0.6666666666666666,
             "#ed7953"
            ],
            [
             0.7777777777777778,
             "#fb9f3a"
            ],
            [
             0.8888888888888888,
             "#fdca26"
            ],
            [
             1,
             "#f0f921"
            ]
           ]
          },
          "colorway": [
           "#636efa",
           "#EF553B",
           "#00cc96",
           "#ab63fa",
           "#FFA15A",
           "#19d3f3",
           "#FF6692",
           "#B6E880",
           "#FF97FF",
           "#FECB52"
          ],
          "font": {
           "color": "#2a3f5f"
          },
          "geo": {
           "bgcolor": "white",
           "lakecolor": "white",
           "landcolor": "#E5ECF6",
           "showlakes": true,
           "showland": true,
           "subunitcolor": "white"
          },
          "hoverlabel": {
           "align": "left"
          },
          "hovermode": "closest",
          "mapbox": {
           "style": "light"
          },
          "paper_bgcolor": "white",
          "plot_bgcolor": "#E5ECF6",
          "polar": {
           "angularaxis": {
            "gridcolor": "white",
            "linecolor": "white",
            "ticks": ""
           },
           "bgcolor": "#E5ECF6",
           "radialaxis": {
            "gridcolor": "white",
            "linecolor": "white",
            "ticks": ""
           }
          },
          "scene": {
           "xaxis": {
            "backgroundcolor": "#E5ECF6",
            "gridcolor": "white",
            "gridwidth": 2,
            "linecolor": "white",
            "showbackground": true,
            "ticks": "",
            "zerolinecolor": "white"
           },
           "yaxis": {
            "backgroundcolor": "#E5ECF6",
            "gridcolor": "white",
            "gridwidth": 2,
            "linecolor": "white",
            "showbackground": true,
            "ticks": "",
            "zerolinecolor": "white"
           },
           "zaxis": {
            "backgroundcolor": "#E5ECF6",
            "gridcolor": "white",
            "gridwidth": 2,
            "linecolor": "white",
            "showbackground": true,
            "ticks": "",
            "zerolinecolor": "white"
           }
          },
          "shapedefaults": {
           "line": {
            "color": "#2a3f5f"
           }
          },
          "ternary": {
           "aaxis": {
            "gridcolor": "white",
            "linecolor": "white",
            "ticks": ""
           },
           "baxis": {
            "gridcolor": "white",
            "linecolor": "white",
            "ticks": ""
           },
           "bgcolor": "#E5ECF6",
           "caxis": {
            "gridcolor": "white",
            "linecolor": "white",
            "ticks": ""
           }
          },
          "title": {
           "x": 0.05
          },
          "xaxis": {
           "automargin": true,
           "gridcolor": "white",
           "linecolor": "white",
           "ticks": "",
           "title": {
            "standoff": 15
           },
           "zerolinecolor": "white",
           "zerolinewidth": 2
          },
          "yaxis": {
           "automargin": true,
           "gridcolor": "white",
           "linecolor": "white",
           "ticks": "",
           "title": {
            "standoff": 15
           },
           "zerolinecolor": "white",
           "zerolinewidth": 2
          }
         }
        },
        "title": {
         "text": "Zugänglichkeit"
        },
        "xaxis": {
         "anchor": "y",
         "domain": [
          0,
          1
         ],
         "title": {
          "text": "Jahr"
         }
        },
        "yaxis": {
         "anchor": "x",
         "domain": [
          0,
          1
         ],
         "title": {
          "text": "value"
         }
        }
       }
      }
     },
     "metadata": {},
     "output_type": "display_data"
    },
    {
     "data": {
      "application/vnd.plotly.v1+json": {
       "config": {
        "plotlyServerURL": "https://plot.ly"
       },
       "data": [
        {
         "hovertemplate": "Codierung=0<br>Jahr=%{x}<br>value=%{y}<extra></extra>",
         "legendgroup": "0",
         "line": {
          "color": "rgb(77, 75, 70)",
          "dash": "solid"
         },
         "marker": {
          "symbol": "circle"
         },
         "mode": "lines",
         "name": "0",
         "orientation": "v",
         "showlegend": true,
         "type": "scatter",
         "x": [
          2011,
          2012,
          2013,
          2014,
          2015,
          2016,
          2017,
          2018,
          2019,
          2020,
          2021,
          2022
         ],
         "xaxis": "x",
         "y": [
          -0.982493472824433,
          -0.9450019555665117,
          -0.7351324413354751,
          -0.703353665407482,
          -0.7856926376413849,
          -0.7930545732295163,
          -0.5462867456329911,
          -0.6451664072345995,
          -0.5174736280469906,
          -0.5636140206444258,
          -0.5260928492002495,
          -0.6790789938716325
         ],
         "yaxis": "y"
        },
        {
         "hovertemplate": "Codierung=1<br>Jahr=%{x}<br>value=%{y}<extra></extra>",
         "legendgroup": "1",
         "line": {
          "color": "rgb(134, 0, 71)",
          "dash": "solid"
         },
         "marker": {
          "symbol": "circle"
         },
         "mode": "lines",
         "name": "1",
         "orientation": "v",
         "showlegend": true,
         "type": "scatter",
         "x": [
          2011,
          2012,
          2013,
          2014,
          2015,
          2016,
          2017,
          2018,
          2019,
          2020,
          2021,
          2022
         ],
         "xaxis": "x",
         "y": [
          0.11745395539828457,
          0.19863390878425324,
          0.3538814808676952,
          0.4125060936420698,
          0.3521690001543102,
          0.3541231767730922,
          0.4603815002288463,
          0.47337731282872925,
          0.5621844612743525,
          0.5491630105406703,
          0.5904356403338041,
          0.5927976791715877
         ],
         "yaxis": "y"
        },
        {
         "hovertemplate": "Codierung=2<br>Jahr=%{x}<br>value=%{y}<extra></extra>",
         "legendgroup": "2",
         "line": {
          "color": "rgb(179, 6, 44)",
          "dash": "solid"
         },
         "marker": {
          "symbol": "circle"
         },
         "mode": "lines",
         "name": "2",
         "orientation": "v",
         "showlegend": true,
         "type": "scatter",
         "x": [
          2011,
          2012,
          2013,
          2014,
          2015,
          2016,
          2017,
          2018,
          2019,
          2020,
          2021,
          2022
         ],
         "xaxis": "x",
         "y": [
          0.03581875508899354,
          0.09475158055700017,
          0.3204216737457918,
          0.3871576362652662,
          0.3287888921481674,
          0.34702056719028784,
          0.45805157587863354,
          0.4987446369307438,
          0.6165830717854769,
          0.5495230115107547,
          0.5674839282442873,
          0.5886489232332874
         ],
         "yaxis": "y"
        },
        {
         "hovertemplate": "Codierung=3<br>Jahr=%{x}<br>value=%{y}<extra></extra>",
         "legendgroup": "3",
         "line": {
          "color": "rgb(115, 124, 69)",
          "dash": "solid"
         },
         "marker": {
          "symbol": "circle"
         },
         "mode": "lines",
         "name": "3",
         "orientation": "v",
         "showlegend": true,
         "type": "scatter",
         "x": [
          2011,
          2012,
          2013,
          2014,
          2015,
          2016,
          2017,
          2018,
          2019,
          2020,
          2021,
          2022
         ],
         "xaxis": "x",
         "y": [
          -0.5325215184893863,
          -0.4456758360698107,
          -0.20703705930658423,
          -0.1250027416918692,
          -0.3193667365940562,
          -0.28941822191407,
          -0.15249596875069724,
          -0.15965899966544628,
          0.0123268180999552,
          -0.14587517723571558,
          -0.1369024494873381,
          -0.002134133427399408
         ],
         "yaxis": "y"
        },
        {
         "hovertemplate": "Codierung=4<br>Jahr=%{x}<br>value=%{y}<extra></extra>",
         "legendgroup": "4",
         "line": {
          "color": "rgb(165, 171, 82)",
          "dash": "solid"
         },
         "marker": {
          "symbol": "circle"
         },
         "mode": "lines",
         "name": "4",
         "orientation": "v",
         "showlegend": true,
         "type": "scatter",
         "x": [
          2011,
          2012,
          2013,
          2014,
          2015,
          2016,
          2017,
          2018,
          2019,
          2020,
          2021,
          2022
         ],
         "xaxis": "x",
         "y": [
          0.29096034059580606,
          0.34831449416892746,
          0.4966897308954898,
          0.5466011820038583,
          0.43800813083450146,
          0.45298238817449465,
          0.5701843819804153,
          0.5641098969913187,
          0.6930369479063193,
          0.6288534512609923,
          0.6537923006696544,
          0.690417699631519
         ],
         "yaxis": "y"
        },
        {
         "hovertemplate": "Codierung=5<br>Jahr=%{x}<br>value=%{y}<extra></extra>",
         "legendgroup": "5",
         "line": {
          "color": "rgb(72, 169, 218)",
          "dash": "solid"
         },
         "marker": {
          "symbol": "circle"
         },
         "mode": "lines",
         "name": "5",
         "orientation": "v",
         "showlegend": true,
         "type": "scatter",
         "x": [
          2011,
          2012,
          2013,
          2014,
          2015,
          2016,
          2017,
          2018,
          2019,
          2020,
          2021,
          2022
         ],
         "xaxis": "x",
         "y": [
          -0.5332107109838686,
          -0.4589335546063903,
          -0.27437352181626495,
          -0.20047863841945457,
          -0.343723631123513,
          -0.33444574472482913,
          -0.18351863885902303,
          -0.18782937426570417,
          -0.05806479436265646,
          -0.1484005950729,
          -0.19131589317472467,
          -0.14988950213589464
         ],
         "yaxis": "y"
        }
       ],
       "layout": {
        "legend": {
         "title": {
          "text": "Codierung"
         },
         "tracegroupgap": 0
        },
        "template": {
         "data": {
          "bar": [
           {
            "error_x": {
             "color": "#2a3f5f"
            },
            "error_y": {
             "color": "#2a3f5f"
            },
            "marker": {
             "line": {
              "color": "#E5ECF6",
              "width": 0.5
             },
             "pattern": {
              "fillmode": "overlay",
              "size": 10,
              "solidity": 0.2
             }
            },
            "type": "bar"
           }
          ],
          "barpolar": [
           {
            "marker": {
             "line": {
              "color": "#E5ECF6",
              "width": 0.5
             },
             "pattern": {
              "fillmode": "overlay",
              "size": 10,
              "solidity": 0.2
             }
            },
            "type": "barpolar"
           }
          ],
          "carpet": [
           {
            "aaxis": {
             "endlinecolor": "#2a3f5f",
             "gridcolor": "white",
             "linecolor": "white",
             "minorgridcolor": "white",
             "startlinecolor": "#2a3f5f"
            },
            "baxis": {
             "endlinecolor": "#2a3f5f",
             "gridcolor": "white",
             "linecolor": "white",
             "minorgridcolor": "white",
             "startlinecolor": "#2a3f5f"
            },
            "type": "carpet"
           }
          ],
          "choropleth": [
           {
            "colorbar": {
             "outlinewidth": 0,
             "ticks": ""
            },
            "type": "choropleth"
           }
          ],
          "contour": [
           {
            "colorbar": {
             "outlinewidth": 0,
             "ticks": ""
            },
            "colorscale": [
             [
              0,
              "#0d0887"
             ],
             [
              0.1111111111111111,
              "#46039f"
             ],
             [
              0.2222222222222222,
              "#7201a8"
             ],
             [
              0.3333333333333333,
              "#9c179e"
             ],
             [
              0.4444444444444444,
              "#bd3786"
             ],
             [
              0.5555555555555556,
              "#d8576b"
             ],
             [
              0.6666666666666666,
              "#ed7953"
             ],
             [
              0.7777777777777778,
              "#fb9f3a"
             ],
             [
              0.8888888888888888,
              "#fdca26"
             ],
             [
              1,
              "#f0f921"
             ]
            ],
            "type": "contour"
           }
          ],
          "contourcarpet": [
           {
            "colorbar": {
             "outlinewidth": 0,
             "ticks": ""
            },
            "type": "contourcarpet"
           }
          ],
          "heatmap": [
           {
            "colorbar": {
             "outlinewidth": 0,
             "ticks": ""
            },
            "colorscale": [
             [
              0,
              "#0d0887"
             ],
             [
              0.1111111111111111,
              "#46039f"
             ],
             [
              0.2222222222222222,
              "#7201a8"
             ],
             [
              0.3333333333333333,
              "#9c179e"
             ],
             [
              0.4444444444444444,
              "#bd3786"
             ],
             [
              0.5555555555555556,
              "#d8576b"
             ],
             [
              0.6666666666666666,
              "#ed7953"
             ],
             [
              0.7777777777777778,
              "#fb9f3a"
             ],
             [
              0.8888888888888888,
              "#fdca26"
             ],
             [
              1,
              "#f0f921"
             ]
            ],
            "type": "heatmap"
           }
          ],
          "heatmapgl": [
           {
            "colorbar": {
             "outlinewidth": 0,
             "ticks": ""
            },
            "colorscale": [
             [
              0,
              "#0d0887"
             ],
             [
              0.1111111111111111,
              "#46039f"
             ],
             [
              0.2222222222222222,
              "#7201a8"
             ],
             [
              0.3333333333333333,
              "#9c179e"
             ],
             [
              0.4444444444444444,
              "#bd3786"
             ],
             [
              0.5555555555555556,
              "#d8576b"
             ],
             [
              0.6666666666666666,
              "#ed7953"
             ],
             [
              0.7777777777777778,
              "#fb9f3a"
             ],
             [
              0.8888888888888888,
              "#fdca26"
             ],
             [
              1,
              "#f0f921"
             ]
            ],
            "type": "heatmapgl"
           }
          ],
          "histogram": [
           {
            "marker": {
             "pattern": {
              "fillmode": "overlay",
              "size": 10,
              "solidity": 0.2
             }
            },
            "type": "histogram"
           }
          ],
          "histogram2d": [
           {
            "colorbar": {
             "outlinewidth": 0,
             "ticks": ""
            },
            "colorscale": [
             [
              0,
              "#0d0887"
             ],
             [
              0.1111111111111111,
              "#46039f"
             ],
             [
              0.2222222222222222,
              "#7201a8"
             ],
             [
              0.3333333333333333,
              "#9c179e"
             ],
             [
              0.4444444444444444,
              "#bd3786"
             ],
             [
              0.5555555555555556,
              "#d8576b"
             ],
             [
              0.6666666666666666,
              "#ed7953"
             ],
             [
              0.7777777777777778,
              "#fb9f3a"
             ],
             [
              0.8888888888888888,
              "#fdca26"
             ],
             [
              1,
              "#f0f921"
             ]
            ],
            "type": "histogram2d"
           }
          ],
          "histogram2dcontour": [
           {
            "colorbar": {
             "outlinewidth": 0,
             "ticks": ""
            },
            "colorscale": [
             [
              0,
              "#0d0887"
             ],
             [
              0.1111111111111111,
              "#46039f"
             ],
             [
              0.2222222222222222,
              "#7201a8"
             ],
             [
              0.3333333333333333,
              "#9c179e"
             ],
             [
              0.4444444444444444,
              "#bd3786"
             ],
             [
              0.5555555555555556,
              "#d8576b"
             ],
             [
              0.6666666666666666,
              "#ed7953"
             ],
             [
              0.7777777777777778,
              "#fb9f3a"
             ],
             [
              0.8888888888888888,
              "#fdca26"
             ],
             [
              1,
              "#f0f921"
             ]
            ],
            "type": "histogram2dcontour"
           }
          ],
          "mesh3d": [
           {
            "colorbar": {
             "outlinewidth": 0,
             "ticks": ""
            },
            "type": "mesh3d"
           }
          ],
          "parcoords": [
           {
            "line": {
             "colorbar": {
              "outlinewidth": 0,
              "ticks": ""
             }
            },
            "type": "parcoords"
           }
          ],
          "pie": [
           {
            "automargin": true,
            "type": "pie"
           }
          ],
          "scatter": [
           {
            "fillpattern": {
             "fillmode": "overlay",
             "size": 10,
             "solidity": 0.2
            },
            "type": "scatter"
           }
          ],
          "scatter3d": [
           {
            "line": {
             "colorbar": {
              "outlinewidth": 0,
              "ticks": ""
             }
            },
            "marker": {
             "colorbar": {
              "outlinewidth": 0,
              "ticks": ""
             }
            },
            "type": "scatter3d"
           }
          ],
          "scattercarpet": [
           {
            "marker": {
             "colorbar": {
              "outlinewidth": 0,
              "ticks": ""
             }
            },
            "type": "scattercarpet"
           }
          ],
          "scattergeo": [
           {
            "marker": {
             "colorbar": {
              "outlinewidth": 0,
              "ticks": ""
             }
            },
            "type": "scattergeo"
           }
          ],
          "scattergl": [
           {
            "marker": {
             "colorbar": {
              "outlinewidth": 0,
              "ticks": ""
             }
            },
            "type": "scattergl"
           }
          ],
          "scattermapbox": [
           {
            "marker": {
             "colorbar": {
              "outlinewidth": 0,
              "ticks": ""
             }
            },
            "type": "scattermapbox"
           }
          ],
          "scatterpolar": [
           {
            "marker": {
             "colorbar": {
              "outlinewidth": 0,
              "ticks": ""
             }
            },
            "type": "scatterpolar"
           }
          ],
          "scatterpolargl": [
           {
            "marker": {
             "colorbar": {
              "outlinewidth": 0,
              "ticks": ""
             }
            },
            "type": "scatterpolargl"
           }
          ],
          "scatterternary": [
           {
            "marker": {
             "colorbar": {
              "outlinewidth": 0,
              "ticks": ""
             }
            },
            "type": "scatterternary"
           }
          ],
          "surface": [
           {
            "colorbar": {
             "outlinewidth": 0,
             "ticks": ""
            },
            "colorscale": [
             [
              0,
              "#0d0887"
             ],
             [
              0.1111111111111111,
              "#46039f"
             ],
             [
              0.2222222222222222,
              "#7201a8"
             ],
             [
              0.3333333333333333,
              "#9c179e"
             ],
             [
              0.4444444444444444,
              "#bd3786"
             ],
             [
              0.5555555555555556,
              "#d8576b"
             ],
             [
              0.6666666666666666,
              "#ed7953"
             ],
             [
              0.7777777777777778,
              "#fb9f3a"
             ],
             [
              0.8888888888888888,
              "#fdca26"
             ],
             [
              1,
              "#f0f921"
             ]
            ],
            "type": "surface"
           }
          ],
          "table": [
           {
            "cells": {
             "fill": {
              "color": "#EBF0F8"
             },
             "line": {
              "color": "white"
             }
            },
            "header": {
             "fill": {
              "color": "#C8D4E3"
             },
             "line": {
              "color": "white"
             }
            },
            "type": "table"
           }
          ]
         },
         "layout": {
          "annotationdefaults": {
           "arrowcolor": "#2a3f5f",
           "arrowhead": 0,
           "arrowwidth": 1
          },
          "autotypenumbers": "strict",
          "coloraxis": {
           "colorbar": {
            "outlinewidth": 0,
            "ticks": ""
           }
          },
          "colorscale": {
           "diverging": [
            [
             0,
             "#8e0152"
            ],
            [
             0.1,
             "#c51b7d"
            ],
            [
             0.2,
             "#de77ae"
            ],
            [
             0.3,
             "#f1b6da"
            ],
            [
             0.4,
             "#fde0ef"
            ],
            [
             0.5,
             "#f7f7f7"
            ],
            [
             0.6,
             "#e6f5d0"
            ],
            [
             0.7,
             "#b8e186"
            ],
            [
             0.8,
             "#7fbc41"
            ],
            [
             0.9,
             "#4d9221"
            ],
            [
             1,
             "#276419"
            ]
           ],
           "sequential": [
            [
             0,
             "#0d0887"
            ],
            [
             0.1111111111111111,
             "#46039f"
            ],
            [
             0.2222222222222222,
             "#7201a8"
            ],
            [
             0.3333333333333333,
             "#9c179e"
            ],
            [
             0.4444444444444444,
             "#bd3786"
            ],
            [
             0.5555555555555556,
             "#d8576b"
            ],
            [
             0.6666666666666666,
             "#ed7953"
            ],
            [
             0.7777777777777778,
             "#fb9f3a"
            ],
            [
             0.8888888888888888,
             "#fdca26"
            ],
            [
             1,
             "#f0f921"
            ]
           ],
           "sequentialminus": [
            [
             0,
             "#0d0887"
            ],
            [
             0.1111111111111111,
             "#46039f"
            ],
            [
             0.2222222222222222,
             "#7201a8"
            ],
            [
             0.3333333333333333,
             "#9c179e"
            ],
            [
             0.4444444444444444,
             "#bd3786"
            ],
            [
             0.5555555555555556,
             "#d8576b"
            ],
            [
             0.6666666666666666,
             "#ed7953"
            ],
            [
             0.7777777777777778,
             "#fb9f3a"
            ],
            [
             0.8888888888888888,
             "#fdca26"
            ],
            [
             1,
             "#f0f921"
            ]
           ]
          },
          "colorway": [
           "#636efa",
           "#EF553B",
           "#00cc96",
           "#ab63fa",
           "#FFA15A",
           "#19d3f3",
           "#FF6692",
           "#B6E880",
           "#FF97FF",
           "#FECB52"
          ],
          "font": {
           "color": "#2a3f5f"
          },
          "geo": {
           "bgcolor": "white",
           "lakecolor": "white",
           "landcolor": "#E5ECF6",
           "showlakes": true,
           "showland": true,
           "subunitcolor": "white"
          },
          "hoverlabel": {
           "align": "left"
          },
          "hovermode": "closest",
          "mapbox": {
           "style": "light"
          },
          "paper_bgcolor": "white",
          "plot_bgcolor": "#E5ECF6",
          "polar": {
           "angularaxis": {
            "gridcolor": "white",
            "linecolor": "white",
            "ticks": ""
           },
           "bgcolor": "#E5ECF6",
           "radialaxis": {
            "gridcolor": "white",
            "linecolor": "white",
            "ticks": ""
           }
          },
          "scene": {
           "xaxis": {
            "backgroundcolor": "#E5ECF6",
            "gridcolor": "white",
            "gridwidth": 2,
            "linecolor": "white",
            "showbackground": true,
            "ticks": "",
            "zerolinecolor": "white"
           },
           "yaxis": {
            "backgroundcolor": "#E5ECF6",
            "gridcolor": "white",
            "gridwidth": 2,
            "linecolor": "white",
            "showbackground": true,
            "ticks": "",
            "zerolinecolor": "white"
           },
           "zaxis": {
            "backgroundcolor": "#E5ECF6",
            "gridcolor": "white",
            "gridwidth": 2,
            "linecolor": "white",
            "showbackground": true,
            "ticks": "",
            "zerolinecolor": "white"
           }
          },
          "shapedefaults": {
           "line": {
            "color": "#2a3f5f"
           }
          },
          "ternary": {
           "aaxis": {
            "gridcolor": "white",
            "linecolor": "white",
            "ticks": ""
           },
           "baxis": {
            "gridcolor": "white",
            "linecolor": "white",
            "ticks": ""
           },
           "bgcolor": "#E5ECF6",
           "caxis": {
            "gridcolor": "white",
            "linecolor": "white",
            "ticks": ""
           }
          },
          "title": {
           "x": 0.05
          },
          "xaxis": {
           "automargin": true,
           "gridcolor": "white",
           "linecolor": "white",
           "ticks": "",
           "title": {
            "standoff": 15
           },
           "zerolinecolor": "white",
           "zerolinewidth": 2
          },
          "yaxis": {
           "automargin": true,
           "gridcolor": "white",
           "linecolor": "white",
           "ticks": "",
           "title": {
            "standoff": 15
           },
           "zerolinecolor": "white",
           "zerolinewidth": 2
          }
         }
        },
        "title": {
         "text": "Qualität"
        },
        "xaxis": {
         "anchor": "y",
         "domain": [
          0,
          1
         ],
         "title": {
          "text": "Jahr"
         }
        },
        "yaxis": {
         "anchor": "x",
         "domain": [
          0,
          1
         ],
         "title": {
          "text": "value"
         }
        }
       }
      }
     },
     "metadata": {},
     "output_type": "display_data"
    }
   ],
   "source": [
    "# plot time series grouped by DT\n",
    "plt_data = df_f.groupby(['Jahr', 'Codierung']).mean()\n",
    "\n",
    "for col in name_map.keys():\n",
    "    fig = px.line(plt_data[col].unstack().ffill(), title=col, color_discrete_sequence=[color_palette[3], color_palette[4], color_palette[5], color_palette[7], color_palette[12], color_palette[13]])\n",
    "    fig.show()"
   ]
  },
  {
   "cell_type": "code",
   "execution_count": 92,
   "metadata": {},
   "outputs": [
    {
     "data": {
      "application/vnd.plotly.v1+json": {
       "config": {
        "plotlyServerURL": "https://plot.ly"
       },
       "data": [
        {
         "hovertemplate": "Kosten=%{x}<br>Zugänglichkeit=%{y}<br>Qualität=%{z}<br>code_color=%{marker.color}<extra></extra>",
         "legendgroup": "",
         "marker": {
          "color": [
           -1.3513383855155248,
           -1.3513383855155248,
           1.9283804847770563,
           0.28852104963076564,
           -1.3513383855155248,
           -1.3513383855155248,
           1.9283804847770563,
           0.28852104963076564,
           -1.3513383855155248,
           -1.3513383855155248,
           1.9283804847770563,
           0.28852104963076564,
           -1.3513383855155248,
           -1.3513383855155248,
           1.9283804847770563,
           0.28852104963076564,
           -1.3513383855155248,
           -1.3513383855155248,
           1.9283804847770563,
           0.28852104963076564,
           -1.3513383855155248,
           -1.3513383855155248,
           1.9283804847770563,
           0.28852104963076564,
           -1.3513383855155248,
           -1.3513383855155248,
           1.9283804847770563,
           0.28852104963076564,
           -1.3513383855155248,
           -1.3513383855155248,
           1.9283804847770563,
           0.28852104963076564,
           -1.3513383855155248,
           -1.3513383855155248,
           1.9283804847770563,
           0.28852104963076564,
           -1.3513383855155248,
           -1.3513383855155248,
           1.9283804847770563,
           0.28852104963076564,
           -1.3513383855155248,
           -1.3513383855155248,
           1.9283804847770563,
           0.28852104963076564,
           -1.3513383855155248,
           -1.3513383855155248,
           1.9283804847770563,
           0.28852104963076564
          ],
          "coloraxis": "coloraxis",
          "symbol": "circle"
         },
         "mode": "markers",
         "name": "",
         "scene": "scene",
         "showlegend": false,
         "type": "scatter3d",
         "x": [
          0.1387153861423609,
          0.07627729049329593,
          0.3969994024010792,
          -0.19616926776367052,
          0.15146436948243178,
          0.09486650049788628,
          0.44248624607999626,
          -0.1775579058085386,
          0.15146436948243178,
          0.09486650049788628,
          0.44248624607999626,
          -0.1775579058085386,
          0.14684712780477743,
          0.038551411998068205,
          0.4408964508444375,
          -0.18493095968358322,
          0.20158119636542873,
          0.1751153456082087,
          0.5199279507424673,
          -0.2789131309923335,
          0.20158119636542873,
          0.1751153456082087,
          0.5199279507424673,
          -0.2789131309923335,
          0.2131231650421424,
          0.18332846970951883,
          0.4923339496984763,
          -0.26124051359189726,
          0.28457773042387513,
          0.24933358190621088,
          0.7315593321886039,
          -0.21573065288421628,
          0.30038199831126183,
          -0.07578849905876058,
          0.6708103859699602,
          -0.21936445223675632,
          0.49192686377499434,
          0.06529962942447803,
          0.7034189459072127,
          -0.0718483555074722,
          0.49192686377499434,
          0.06529962942447803,
          0.7034189459072127,
          -0.0718483555074722,
          0.38395406877257376,
          -0.02124406905451723,
          0.7080306608154817,
          -0.056506889680658104
         ],
         "y": [
          -0.0956443890827213,
          -0.38869464718280666,
          0.5550451519353504,
          0.30446279381467745,
          -0.17083196313684568,
          -0.3586957647236697,
          0.5424323781370146,
          0.2679619314605396,
          -0.15446898464628003,
          -0.3871966192996601,
          0.5424323781370146,
          0.2686849004807289,
          -0.14540165227545584,
          -0.4178593737005802,
          0.6814980639690053,
          0.28875388800500845,
          -0.14540165227545584,
          -0.31554951285536786,
          0.6814980639690053,
          0.28875388800500845,
          -0.17927329862297814,
          -0.5805843946814249,
          0.38901506455133505,
          0.19951127321655698,
          -0.17927329862297814,
          -0.5805843946814249,
          0.38901506455133505,
          0.19951127321655698,
          -0.2066210081368129,
          -0.5078642420838473,
          0.3991417026104453,
          0.13738316695806957,
          -0.2718021418903057,
          -0.33766795292410196,
          0.3678464687715746,
          0.16735371713085667,
          -0.1608986809543312,
          -0.285614223235115,
          0.5247697566298066,
          0.28470424610242206,
          -0.04431928688597089,
          -0.285614223235115,
          0.5463086747024829,
          0.3751677020076625,
          0.03747557098926625,
          -0.28268396630203263,
          0.3342552685351541,
          0.17444119053422635
         ],
         "z": [
          0.11745395539828457,
          0.03581875508899354,
          0.29096034059580606,
          -0.5332107109838686,
          0.19863390878425324,
          0.09475158055700017,
          0.34831449416892746,
          -0.4589335546063903,
          0.3538814808676952,
          0.3204216737457918,
          0.4966897308954898,
          -0.27437352181626495,
          0.4125060936420698,
          0.3871576362652662,
          0.5466011820038583,
          -0.20047863841945457,
          0.3521690001543102,
          0.3287888921481674,
          0.43800813083450146,
          -0.343723631123513,
          0.3541231767730922,
          0.34702056719028784,
          0.45298238817449465,
          -0.33444574472482913,
          0.4603815002288463,
          0.45805157587863354,
          0.5701843819804153,
          -0.18351863885902303,
          0.47337731282872925,
          0.4987446369307438,
          0.5641098969913187,
          -0.18782937426570417,
          0.5621844612743525,
          0.6165830717854769,
          0.6930369479063193,
          -0.05806479436265646,
          0.5491630105406703,
          0.5495230115107547,
          0.6288534512609923,
          -0.1484005950729,
          0.5904356403338041,
          0.5674839282442873,
          0.6537923006696544,
          -0.19131589317472467,
          0.5927976791715877,
          0.5886489232332874,
          0.690417699631519,
          -0.14988950213589464
         ]
        }
       ],
       "layout": {
        "coloraxis": {
         "colorbar": {
          "title": {
           "text": "code_color"
          }
         },
         "colorscale": [
          [
           0,
           "#0d0887"
          ],
          [
           0.1111111111111111,
           "#46039f"
          ],
          [
           0.2222222222222222,
           "#7201a8"
          ],
          [
           0.3333333333333333,
           "#9c179e"
          ],
          [
           0.4444444444444444,
           "#bd3786"
          ],
          [
           0.5555555555555556,
           "#d8576b"
          ],
          [
           0.6666666666666666,
           "#ed7953"
          ],
          [
           0.7777777777777778,
           "#fb9f3a"
          ],
          [
           0.8888888888888888,
           "#fdca26"
          ],
          [
           1,
           "#f0f921"
          ]
         ]
        },
        "height": 800,
        "legend": {
         "tracegroupgap": 0
        },
        "margin": {
         "t": 60
        },
        "scene": {
         "domain": {
          "x": [
           0,
           1
          ],
          "y": [
           0,
           1
          ]
         },
         "xaxis": {
          "title": {
           "text": "Kosten"
          }
         },
         "yaxis": {
          "title": {
           "text": "Zugänglichkeit"
          }
         },
         "zaxis": {
          "title": {
           "text": "Qualität"
          }
         }
        },
        "template": {
         "data": {
          "bar": [
           {
            "error_x": {
             "color": "#2a3f5f"
            },
            "error_y": {
             "color": "#2a3f5f"
            },
            "marker": {
             "line": {
              "color": "#E5ECF6",
              "width": 0.5
             },
             "pattern": {
              "fillmode": "overlay",
              "size": 10,
              "solidity": 0.2
             }
            },
            "type": "bar"
           }
          ],
          "barpolar": [
           {
            "marker": {
             "line": {
              "color": "#E5ECF6",
              "width": 0.5
             },
             "pattern": {
              "fillmode": "overlay",
              "size": 10,
              "solidity": 0.2
             }
            },
            "type": "barpolar"
           }
          ],
          "carpet": [
           {
            "aaxis": {
             "endlinecolor": "#2a3f5f",
             "gridcolor": "white",
             "linecolor": "white",
             "minorgridcolor": "white",
             "startlinecolor": "#2a3f5f"
            },
            "baxis": {
             "endlinecolor": "#2a3f5f",
             "gridcolor": "white",
             "linecolor": "white",
             "minorgridcolor": "white",
             "startlinecolor": "#2a3f5f"
            },
            "type": "carpet"
           }
          ],
          "choropleth": [
           {
            "colorbar": {
             "outlinewidth": 0,
             "ticks": ""
            },
            "type": "choropleth"
           }
          ],
          "contour": [
           {
            "colorbar": {
             "outlinewidth": 0,
             "ticks": ""
            },
            "colorscale": [
             [
              0,
              "#0d0887"
             ],
             [
              0.1111111111111111,
              "#46039f"
             ],
             [
              0.2222222222222222,
              "#7201a8"
             ],
             [
              0.3333333333333333,
              "#9c179e"
             ],
             [
              0.4444444444444444,
              "#bd3786"
             ],
             [
              0.5555555555555556,
              "#d8576b"
             ],
             [
              0.6666666666666666,
              "#ed7953"
             ],
             [
              0.7777777777777778,
              "#fb9f3a"
             ],
             [
              0.8888888888888888,
              "#fdca26"
             ],
             [
              1,
              "#f0f921"
             ]
            ],
            "type": "contour"
           }
          ],
          "contourcarpet": [
           {
            "colorbar": {
             "outlinewidth": 0,
             "ticks": ""
            },
            "type": "contourcarpet"
           }
          ],
          "heatmap": [
           {
            "colorbar": {
             "outlinewidth": 0,
             "ticks": ""
            },
            "colorscale": [
             [
              0,
              "#0d0887"
             ],
             [
              0.1111111111111111,
              "#46039f"
             ],
             [
              0.2222222222222222,
              "#7201a8"
             ],
             [
              0.3333333333333333,
              "#9c179e"
             ],
             [
              0.4444444444444444,
              "#bd3786"
             ],
             [
              0.5555555555555556,
              "#d8576b"
             ],
             [
              0.6666666666666666,
              "#ed7953"
             ],
             [
              0.7777777777777778,
              "#fb9f3a"
             ],
             [
              0.8888888888888888,
              "#fdca26"
             ],
             [
              1,
              "#f0f921"
             ]
            ],
            "type": "heatmap"
           }
          ],
          "heatmapgl": [
           {
            "colorbar": {
             "outlinewidth": 0,
             "ticks": ""
            },
            "colorscale": [
             [
              0,
              "#0d0887"
             ],
             [
              0.1111111111111111,
              "#46039f"
             ],
             [
              0.2222222222222222,
              "#7201a8"
             ],
             [
              0.3333333333333333,
              "#9c179e"
             ],
             [
              0.4444444444444444,
              "#bd3786"
             ],
             [
              0.5555555555555556,
              "#d8576b"
             ],
             [
              0.6666666666666666,
              "#ed7953"
             ],
             [
              0.7777777777777778,
              "#fb9f3a"
             ],
             [
              0.8888888888888888,
              "#fdca26"
             ],
             [
              1,
              "#f0f921"
             ]
            ],
            "type": "heatmapgl"
           }
          ],
          "histogram": [
           {
            "marker": {
             "pattern": {
              "fillmode": "overlay",
              "size": 10,
              "solidity": 0.2
             }
            },
            "type": "histogram"
           }
          ],
          "histogram2d": [
           {
            "colorbar": {
             "outlinewidth": 0,
             "ticks": ""
            },
            "colorscale": [
             [
              0,
              "#0d0887"
             ],
             [
              0.1111111111111111,
              "#46039f"
             ],
             [
              0.2222222222222222,
              "#7201a8"
             ],
             [
              0.3333333333333333,
              "#9c179e"
             ],
             [
              0.4444444444444444,
              "#bd3786"
             ],
             [
              0.5555555555555556,
              "#d8576b"
             ],
             [
              0.6666666666666666,
              "#ed7953"
             ],
             [
              0.7777777777777778,
              "#fb9f3a"
             ],
             [
              0.8888888888888888,
              "#fdca26"
             ],
             [
              1,
              "#f0f921"
             ]
            ],
            "type": "histogram2d"
           }
          ],
          "histogram2dcontour": [
           {
            "colorbar": {
             "outlinewidth": 0,
             "ticks": ""
            },
            "colorscale": [
             [
              0,
              "#0d0887"
             ],
             [
              0.1111111111111111,
              "#46039f"
             ],
             [
              0.2222222222222222,
              "#7201a8"
             ],
             [
              0.3333333333333333,
              "#9c179e"
             ],
             [
              0.4444444444444444,
              "#bd3786"
             ],
             [
              0.5555555555555556,
              "#d8576b"
             ],
             [
              0.6666666666666666,
              "#ed7953"
             ],
             [
              0.7777777777777778,
              "#fb9f3a"
             ],
             [
              0.8888888888888888,
              "#fdca26"
             ],
             [
              1,
              "#f0f921"
             ]
            ],
            "type": "histogram2dcontour"
           }
          ],
          "mesh3d": [
           {
            "colorbar": {
             "outlinewidth": 0,
             "ticks": ""
            },
            "type": "mesh3d"
           }
          ],
          "parcoords": [
           {
            "line": {
             "colorbar": {
              "outlinewidth": 0,
              "ticks": ""
             }
            },
            "type": "parcoords"
           }
          ],
          "pie": [
           {
            "automargin": true,
            "type": "pie"
           }
          ],
          "scatter": [
           {
            "fillpattern": {
             "fillmode": "overlay",
             "size": 10,
             "solidity": 0.2
            },
            "type": "scatter"
           }
          ],
          "scatter3d": [
           {
            "line": {
             "colorbar": {
              "outlinewidth": 0,
              "ticks": ""
             }
            },
            "marker": {
             "colorbar": {
              "outlinewidth": 0,
              "ticks": ""
             }
            },
            "type": "scatter3d"
           }
          ],
          "scattercarpet": [
           {
            "marker": {
             "colorbar": {
              "outlinewidth": 0,
              "ticks": ""
             }
            },
            "type": "scattercarpet"
           }
          ],
          "scattergeo": [
           {
            "marker": {
             "colorbar": {
              "outlinewidth": 0,
              "ticks": ""
             }
            },
            "type": "scattergeo"
           }
          ],
          "scattergl": [
           {
            "marker": {
             "colorbar": {
              "outlinewidth": 0,
              "ticks": ""
             }
            },
            "type": "scattergl"
           }
          ],
          "scattermapbox": [
           {
            "marker": {
             "colorbar": {
              "outlinewidth": 0,
              "ticks": ""
             }
            },
            "type": "scattermapbox"
           }
          ],
          "scatterpolar": [
           {
            "marker": {
             "colorbar": {
              "outlinewidth": 0,
              "ticks": ""
             }
            },
            "type": "scatterpolar"
           }
          ],
          "scatterpolargl": [
           {
            "marker": {
             "colorbar": {
              "outlinewidth": 0,
              "ticks": ""
             }
            },
            "type": "scatterpolargl"
           }
          ],
          "scatterternary": [
           {
            "marker": {
             "colorbar": {
              "outlinewidth": 0,
              "ticks": ""
             }
            },
            "type": "scatterternary"
           }
          ],
          "surface": [
           {
            "colorbar": {
             "outlinewidth": 0,
             "ticks": ""
            },
            "colorscale": [
             [
              0,
              "#0d0887"
             ],
             [
              0.1111111111111111,
              "#46039f"
             ],
             [
              0.2222222222222222,
              "#7201a8"
             ],
             [
              0.3333333333333333,
              "#9c179e"
             ],
             [
              0.4444444444444444,
              "#bd3786"
             ],
             [
              0.5555555555555556,
              "#d8576b"
             ],
             [
              0.6666666666666666,
              "#ed7953"
             ],
             [
              0.7777777777777778,
              "#fb9f3a"
             ],
             [
              0.8888888888888888,
              "#fdca26"
             ],
             [
              1,
              "#f0f921"
             ]
            ],
            "type": "surface"
           }
          ],
          "table": [
           {
            "cells": {
             "fill": {
              "color": "#EBF0F8"
             },
             "line": {
              "color": "white"
             }
            },
            "header": {
             "fill": {
              "color": "#C8D4E3"
             },
             "line": {
              "color": "white"
             }
            },
            "type": "table"
           }
          ]
         },
         "layout": {
          "annotationdefaults": {
           "arrowcolor": "#2a3f5f",
           "arrowhead": 0,
           "arrowwidth": 1
          },
          "autotypenumbers": "strict",
          "coloraxis": {
           "colorbar": {
            "outlinewidth": 0,
            "ticks": ""
           }
          },
          "colorscale": {
           "diverging": [
            [
             0,
             "#8e0152"
            ],
            [
             0.1,
             "#c51b7d"
            ],
            [
             0.2,
             "#de77ae"
            ],
            [
             0.3,
             "#f1b6da"
            ],
            [
             0.4,
             "#fde0ef"
            ],
            [
             0.5,
             "#f7f7f7"
            ],
            [
             0.6,
             "#e6f5d0"
            ],
            [
             0.7,
             "#b8e186"
            ],
            [
             0.8,
             "#7fbc41"
            ],
            [
             0.9,
             "#4d9221"
            ],
            [
             1,
             "#276419"
            ]
           ],
           "sequential": [
            [
             0,
             "#0d0887"
            ],
            [
             0.1111111111111111,
             "#46039f"
            ],
            [
             0.2222222222222222,
             "#7201a8"
            ],
            [
             0.3333333333333333,
             "#9c179e"
            ],
            [
             0.4444444444444444,
             "#bd3786"
            ],
            [
             0.5555555555555556,
             "#d8576b"
            ],
            [
             0.6666666666666666,
             "#ed7953"
            ],
            [
             0.7777777777777778,
             "#fb9f3a"
            ],
            [
             0.8888888888888888,
             "#fdca26"
            ],
            [
             1,
             "#f0f921"
            ]
           ],
           "sequentialminus": [
            [
             0,
             "#0d0887"
            ],
            [
             0.1111111111111111,
             "#46039f"
            ],
            [
             0.2222222222222222,
             "#7201a8"
            ],
            [
             0.3333333333333333,
             "#9c179e"
            ],
            [
             0.4444444444444444,
             "#bd3786"
            ],
            [
             0.5555555555555556,
             "#d8576b"
            ],
            [
             0.6666666666666666,
             "#ed7953"
            ],
            [
             0.7777777777777778,
             "#fb9f3a"
            ],
            [
             0.8888888888888888,
             "#fdca26"
            ],
            [
             1,
             "#f0f921"
            ]
           ]
          },
          "colorway": [
           "#636efa",
           "#EF553B",
           "#00cc96",
           "#ab63fa",
           "#FFA15A",
           "#19d3f3",
           "#FF6692",
           "#B6E880",
           "#FF97FF",
           "#FECB52"
          ],
          "font": {
           "color": "#2a3f5f"
          },
          "geo": {
           "bgcolor": "white",
           "lakecolor": "white",
           "landcolor": "#E5ECF6",
           "showlakes": true,
           "showland": true,
           "subunitcolor": "white"
          },
          "hoverlabel": {
           "align": "left"
          },
          "hovermode": "closest",
          "mapbox": {
           "style": "light"
          },
          "paper_bgcolor": "white",
          "plot_bgcolor": "#E5ECF6",
          "polar": {
           "angularaxis": {
            "gridcolor": "white",
            "linecolor": "white",
            "ticks": ""
           },
           "bgcolor": "#E5ECF6",
           "radialaxis": {
            "gridcolor": "white",
            "linecolor": "white",
            "ticks": ""
           }
          },
          "scene": {
           "xaxis": {
            "backgroundcolor": "#E5ECF6",
            "gridcolor": "white",
            "gridwidth": 2,
            "linecolor": "white",
            "showbackground": true,
            "ticks": "",
            "zerolinecolor": "white"
           },
           "yaxis": {
            "backgroundcolor": "#E5ECF6",
            "gridcolor": "white",
            "gridwidth": 2,
            "linecolor": "white",
            "showbackground": true,
            "ticks": "",
            "zerolinecolor": "white"
           },
           "zaxis": {
            "backgroundcolor": "#E5ECF6",
            "gridcolor": "white",
            "gridwidth": 2,
            "linecolor": "white",
            "showbackground": true,
            "ticks": "",
            "zerolinecolor": "white"
           }
          },
          "shapedefaults": {
           "line": {
            "color": "#2a3f5f"
           }
          },
          "ternary": {
           "aaxis": {
            "gridcolor": "white",
            "linecolor": "white",
            "ticks": ""
           },
           "baxis": {
            "gridcolor": "white",
            "linecolor": "white",
            "ticks": ""
           },
           "bgcolor": "#E5ECF6",
           "caxis": {
            "gridcolor": "white",
            "linecolor": "white",
            "ticks": ""
           }
          },
          "title": {
           "x": 0.05
          },
          "xaxis": {
           "automargin": true,
           "gridcolor": "white",
           "linecolor": "white",
           "ticks": "",
           "title": {
            "standoff": 15
           },
           "zerolinecolor": "white",
           "zerolinewidth": 2
          },
          "yaxis": {
           "automargin": true,
           "gridcolor": "white",
           "linecolor": "white",
           "ticks": "",
           "title": {
            "standoff": 15
           },
           "zerolinecolor": "white",
           "zerolinewidth": 2
          }
         }
        },
        "width": 800
       }
      }
     },
     "metadata": {},
     "output_type": "display_data"
    }
   ],
   "source": [
    "# 3d scatter plot\n",
    "plt_data = plt_data[np.logical_and(plt_data.index.get_level_values('Codierung') != 0,plt_data.index.get_level_values('Codierung') != 3) ]\n",
    "fig = px.scatter_3d(plt_data.reset_index(), x='Kosten', y='Zugänglichkeit', z='Qualität', color='code_color')\n",
    "fig.update_layout(width=800, height=800)\n",
    "fig.show()\n"
   ]
  },
  {
   "cell_type": "code",
   "execution_count": 23,
   "metadata": {},
   "outputs": [
    {
     "name": "stdout",
     "output_type": "stream",
     "text": [
      "                            OLS Regression Results                            \n",
      "==============================================================================\n",
      "Dep. Variable:               Qualität   R-squared:                       0.606\n",
      "Model:                            OLS   Adj. R-squared:                  0.580\n",
      "Method:                 Least Squares   F-statistic:                     23.73\n",
      "Date:                 Sa, 08 Mrz 2025   Prob (F-statistic):           3.92e-41\n",
      "Time:                        13:17:30   Log-Likelihood:                -97.091\n",
      "No. Observations:                 264   AIC:                             228.2\n",
      "Df Residuals:                     247   BIC:                             289.0\n",
      "Df Model:                          16                                         \n",
      "Covariance Type:            nonrobust                                         \n",
      "=====================================================================================\n",
      "                        coef    std err          t      P>|t|      [0.025      0.975]\n",
      "-------------------------------------------------------------------------------------\n",
      "Intercept            -0.0194      0.063     -0.308      0.758      -0.143       0.104\n",
      "C(Jahr)[T.2012]       0.0486      0.109      0.446      0.656      -0.166       0.263\n",
      "C(Jahr)[T.2013]       0.2210      0.109      2.027      0.044       0.006       0.436\n",
      "C(Jahr)[T.2014]       0.3003      0.109      2.756      0.006       0.086       0.515\n",
      "C(Jahr)[T.2015]       0.1989      0.109      1.825      0.069      -0.016       0.413\n",
      "C(Jahr)[T.2016]       0.1645      0.109      1.506      0.133      -0.051       0.380\n",
      "C(Jahr)[T.2017]       0.2865      0.109      2.623      0.009       0.071       0.502\n",
      "C(Jahr)[T.2018]       0.2426      0.110      2.215      0.028       0.027       0.458\n",
      "C(Jahr)[T.2019]       0.3714      0.109      3.393      0.001       0.156       0.587\n",
      "C(Jahr)[T.2020]       0.2932      0.110      2.676      0.008       0.077       0.509\n",
      "C(Jahr)[T.2021]       0.3266      0.110      2.982      0.003       0.111       0.542\n",
      "C(Jahr)[T.2022]       0.3407      0.109      3.115      0.002       0.125       0.556\n",
      "C(Codierung)[T.1]     0.0364      0.040      0.903      0.367      -0.043       0.116\n",
      "C(Codierung)[T.2]     0.0056      0.068      0.083      0.934      -0.128       0.140\n",
      "C(Codierung)[T.3] -2.199e-17   1.15e-17     -1.910      0.057   -4.47e-17    6.89e-19\n",
      "C(Codierung)[T.4]     0.2390      0.058      4.105      0.000       0.124       0.354\n",
      "C(Codierung)[T.5]    -0.3004      0.045     -6.735      0.000      -0.388      -0.213\n",
      "Kosten                0.4482      0.048      9.274      0.000       0.353       0.543\n",
      "Zugänglichkeit       -0.3513      0.063     -5.549      0.000      -0.476      -0.227\n",
      "==============================================================================\n",
      "Omnibus:                        4.713   Durbin-Watson:                   0.245\n",
      "Prob(Omnibus):                  0.095   Jarque-Bera (JB):                4.599\n",
      "Skew:                          -0.237   Prob(JB):                        0.100\n",
      "Kurtosis:                       3.441   Cond. No.                     3.23e+17\n",
      "==============================================================================\n",
      "\n",
      "Notes:\n",
      "[1] Standard Errors assume that the covariance matrix of the errors is correctly specified.\n",
      "[2] The smallest eigenvalue is 3.6e-33. This might indicate that there are\n",
      "strong multicollinearity problems or that the design matrix is singular.\n"
     ]
    }
   ],
   "source": [
    "# use statsmodels to do a linear regression with fixed effects for year and group\n",
    "import statsmodels.api as sm\n",
    "import statsmodels.formula.api as smf\n",
    "\n",
    "df_r = df_f.reset_index()\n",
    "df_r['Jahr'] = df_r['Jahr'].astype('category')\n",
    "df_r['Land'] = df_r['Land'].astype('category')\n",
    "df_r['Codierung'] = df_r['Codierung'].astype('category')\n",
    "\n",
    "# drop codings 0 and 3\n",
    "df_r = df_r[np.logical_and(df_r['Codierung'] != 0, df_r['Codierung'] != 3)]\n",
    "\n",
    "# regression for quality_i,j = a + b * Kosten_i,j + c * Zugänglichkeit_i,j + d * Jahr_i + e * Codierung_i\n",
    "model = smf.ols('Qualität ~ Kosten + Zugänglichkeit + C(Jahr) + C(Codierung)', data=df_r).fit()\n",
    "\n",
    "print(model.summary())"
   ]
  },
  {
   "cell_type": "code",
   "execution_count": 24,
   "metadata": {},
   "outputs": [
    {
     "name": "stdout",
     "output_type": "stream",
     "text": [
      "                            OLS Regression Results                            \n",
      "==============================================================================\n",
      "Dep. Variable:         Zugänglichkeit   R-squared:                       0.475\n",
      "Model:                            OLS   Adj. R-squared:                  0.441\n",
      "Method:                 Least Squares   F-statistic:                     13.95\n",
      "Date:                 Sa, 08 Mrz 2025   Prob (F-statistic):           1.88e-26\n",
      "Time:                        13:17:41   Log-Likelihood:                -82.906\n",
      "No. Observations:                 264   AIC:                             199.8\n",
      "Df Residuals:                     247   BIC:                             260.6\n",
      "Df Model:                          16                                         \n",
      "Covariance Type:            nonrobust                                         \n",
      "=====================================================================================\n",
      "                        coef    std err          t      P>|t|      [0.025      0.975]\n",
      "-------------------------------------------------------------------------------------\n",
      "Intercept             0.0590      0.059      0.993      0.322      -0.058       0.176\n",
      "C(Jahr)[T.2012]      -0.0221      0.103     -0.214      0.831      -0.226       0.181\n",
      "C(Jahr)[T.2013]       0.0355      0.104      0.341      0.734      -0.170       0.241\n",
      "C(Jahr)[T.2014]       0.0907      0.105      0.867      0.387      -0.115       0.297\n",
      "C(Jahr)[T.2015]       0.0660      0.104      0.635      0.526      -0.139       0.271\n",
      "C(Jahr)[T.2016]      -0.0534      0.104     -0.514      0.608      -0.258       0.151\n",
      "C(Jahr)[T.2017]      -0.0154      0.105     -0.147      0.884      -0.222       0.191\n",
      "C(Jahr)[T.2018]      -0.0581      0.105     -0.555      0.580      -0.264       0.148\n",
      "C(Jahr)[T.2019]      -0.0172      0.106     -0.162      0.871      -0.226       0.192\n",
      "C(Jahr)[T.2020]       0.0500      0.105      0.475      0.635      -0.157       0.257\n",
      "C(Jahr)[T.2021]       0.1310      0.105      1.244      0.215      -0.076       0.338\n",
      "C(Jahr)[T.2022]       0.0662      0.106      0.627      0.531      -0.142       0.274\n",
      "C(Codierung)[T.1]    -0.1514      0.037     -4.087      0.000      -0.224      -0.078\n",
      "C(Codierung)[T.2]    -0.3706      0.060     -6.173      0.000      -0.489      -0.252\n",
      "C(Codierung)[T.3]  4.405e-18    7.8e-18      0.565      0.573    -1.1e-17    1.98e-17\n",
      "C(Codierung)[T.4]     0.4565      0.049      9.300      0.000       0.360       0.553\n",
      "C(Codierung)[T.5]     0.1246      0.045      2.750      0.006       0.035       0.214\n",
      "Qualität             -0.3155      0.057     -5.549      0.000      -0.427      -0.204\n",
      "Kosten                0.2222      0.051      4.334      0.000       0.121       0.323\n",
      "==============================================================================\n",
      "Omnibus:                        5.665   Durbin-Watson:                   0.390\n",
      "Prob(Omnibus):                  0.059   Jarque-Bera (JB):                3.376\n",
      "Skew:                          -0.021   Prob(JB):                        0.185\n",
      "Kurtosis:                       2.448   Cond. No.                     2.84e+16\n",
      "==============================================================================\n",
      "\n",
      "Notes:\n",
      "[1] Standard Errors assume that the covariance matrix of the errors is correctly specified.\n",
      "[2] The smallest eigenvalue is 4.8e-31. This might indicate that there are\n",
      "strong multicollinearity problems or that the design matrix is singular.\n"
     ]
    }
   ],
   "source": [
    "# regression for quality_i,j = a + b * Kosten_i,j + c * Zugänglichkeit_i,j + d * Jahr_i + e * Codierung_i\n",
    "model = smf.ols('Zugänglichkeit ~ Qualität + Kosten + C(Jahr) + C(Codierung)', data=df_r).fit()\n",
    "\n",
    "print(model.summary())"
   ]
  },
  {
   "cell_type": "code",
   "execution_count": 25,
   "metadata": {},
   "outputs": [
    {
     "name": "stdout",
     "output_type": "stream",
     "text": [
      "                            OLS Regression Results                            \n",
      "==============================================================================\n",
      "Dep. Variable:                 Kosten   R-squared:                       0.473\n",
      "Model:                            OLS   Adj. R-squared:                  0.439\n",
      "Method:                 Least Squares   F-statistic:                     13.86\n",
      "Date:                 Sa, 08 Mrz 2025   Prob (F-statistic):           2.63e-26\n",
      "Time:                        13:17:53   Log-Likelihood:                -130.23\n",
      "No. Observations:                 264   AIC:                             294.5\n",
      "Df Residuals:                     247   BIC:                             355.2\n",
      "Df Model:                          16                                         \n",
      "Covariance Type:            nonrobust                                         \n",
      "=====================================================================================\n",
      "                        coef    std err          t      P>|t|      [0.025      0.975]\n",
      "-------------------------------------------------------------------------------------\n",
      "Intercept             0.0626      0.071      0.879      0.380      -0.078       0.203\n",
      "C(Jahr)[T.2012]      -0.0075      0.124     -0.061      0.952      -0.251       0.236\n",
      "C(Jahr)[T.2013]      -0.1072      0.124     -0.862      0.390      -0.352       0.138\n",
      "C(Jahr)[T.2014]      -0.1640      0.125     -1.312      0.191      -0.410       0.082\n",
      "C(Jahr)[T.2015]      -0.0974      0.124     -0.784      0.434      -0.342       0.147\n",
      "C(Jahr)[T.2016]      -0.0634      0.124     -0.510      0.610      -0.308       0.181\n",
      "C(Jahr)[T.2017]      -0.1291      0.125     -1.030      0.304      -0.376       0.118\n",
      "C(Jahr)[T.2018]      -0.0327      0.125     -0.261      0.795      -0.280       0.214\n",
      "C(Jahr)[T.2019]      -0.1334      0.127     -1.053      0.293      -0.383       0.116\n",
      "C(Jahr)[T.2020]       0.0036      0.126      0.029      0.977      -0.245       0.252\n",
      "C(Jahr)[T.2021]      -0.0248      0.126     -0.196      0.845      -0.274       0.224\n",
      "C(Jahr)[T.2022]      -0.0537      0.126     -0.425      0.671      -0.303       0.195\n",
      "C(Codierung)[T.1]     0.0726      0.046      1.594      0.112      -0.017       0.162\n",
      "C(Codierung)[T.2]    -0.0065      0.077     -0.084      0.933      -0.158       0.145\n",
      "C(Codierung)[T.3] -6.211e-18   1.24e-17     -0.500      0.618   -3.07e-17    1.83e-17\n",
      "C(Codierung)[T.4]     0.1054      0.068      1.553      0.122      -0.028       0.239\n",
      "C(Codierung)[T.5]    -0.1089      0.055     -1.995      0.047      -0.216      -0.001\n",
      "Zugänglichkeit        0.3180      0.073      4.334      0.000       0.173       0.463\n",
      "Qualität              0.5762      0.062      9.274      0.000       0.454       0.699\n",
      "==============================================================================\n",
      "Omnibus:                        3.521   Durbin-Watson:                   0.305\n",
      "Prob(Omnibus):                  0.172   Jarque-Bera (JB):                3.727\n",
      "Skew:                           0.123   Prob(JB):                        0.155\n",
      "Kurtosis:                       3.527   Cond. No.                     2.31e+17\n",
      "==============================================================================\n",
      "\n",
      "Notes:\n",
      "[1] Standard Errors assume that the covariance matrix of the errors is correctly specified.\n",
      "[2] The smallest eigenvalue is 7.14e-33. This might indicate that there are\n",
      "strong multicollinearity problems or that the design matrix is singular.\n"
     ]
    }
   ],
   "source": [
    "# regression for quality_i,j = a + b * Kosten_i,j + c * Zugänglichkeit_i,j + d * Jahr_i + e * Codierung_i\n",
    "model = smf.ols('Kosten ~ Zugänglichkeit + Qualität + C(Jahr) + C(Codierung)', data=df_r).fit()\n",
    "\n",
    "print(model.summary())"
   ]
  },
  {
   "cell_type": "code",
   "execution_count": 26,
   "metadata": {},
   "outputs": [
    {
     "name": "stdout",
     "output_type": "stream",
     "text": [
      "                            OLS Regression Results                            \n",
      "==============================================================================\n",
      "Dep. Variable:               Qualität   R-squared:                       0.508\n",
      "Model:                            OLS   Adj. R-squared:                  0.483\n",
      "Method:                 Least Squares   F-statistic:                     19.88\n",
      "Date:                 Sa, 08 Mrz 2025   Prob (F-statistic):           9.85e-32\n",
      "Time:                        13:18:00   Log-Likelihood:                -126.26\n",
      "No. Observations:                 264   AIC:                             280.5\n",
      "Df Residuals:                     250   BIC:                             330.6\n",
      "Df Model:                          13                                         \n",
      "Covariance Type:            nonrobust                                         \n",
      "===================================================================================\n",
      "                      coef    std err          t      P>|t|      [0.025      0.975]\n",
      "-----------------------------------------------------------------------------------\n",
      "Intercept          -0.0776      0.086     -0.903      0.367      -0.247       0.092\n",
      "C(Jahr)[T.2012]     0.0431      0.121      0.356      0.722      -0.195       0.281\n",
      "C(Jahr)[T.2013]     0.2155      0.121      1.782      0.076      -0.023       0.454\n",
      "C(Jahr)[T.2014]     0.2979      0.121      2.463      0.014       0.060       0.536\n",
      "C(Jahr)[T.2015]     0.1944      0.121      1.607      0.109      -0.044       0.433\n",
      "C(Jahr)[T.2016]     0.1557      0.121      1.285      0.200      -0.083       0.394\n",
      "C(Jahr)[T.2017]     0.2765      0.121      2.283      0.023       0.038       0.515\n",
      "C(Jahr)[T.2018]     0.2139      0.121      1.763      0.079      -0.025       0.453\n",
      "C(Jahr)[T.2019]     0.3496      0.121      2.882      0.004       0.111       0.588\n",
      "C(Jahr)[T.2020]     0.2481      0.121      2.044      0.042       0.009       0.487\n",
      "C(Jahr)[T.2021]     0.2844      0.121      2.342      0.020       0.045       0.523\n",
      "C(Jahr)[T.2022]     0.3034      0.121      2.502      0.013       0.065       0.542\n",
      "Kosten              0.6412      0.046     13.943      0.000       0.551       0.732\n",
      "Zugänglichkeit     -0.3870      0.055     -7.064      0.000      -0.495      -0.279\n",
      "==============================================================================\n",
      "Omnibus:                       14.435   Durbin-Watson:                   0.279\n",
      "Prob(Omnibus):                  0.001   Jarque-Bera (JB):               15.405\n",
      "Skew:                          -0.530   Prob(JB):                     0.000452\n",
      "Kurtosis:                       3.527   Cond. No.                         13.2\n",
      "==============================================================================\n",
      "\n",
      "Notes:\n",
      "[1] Standard Errors assume that the covariance matrix of the errors is correctly specified.\n"
     ]
    }
   ],
   "source": [
    "# regression for quality_i,j = a + b * Kosten_i,j + c * Zugänglichkeit_i,j + d * Jahr_i + e * Codierung_i\n",
    "model = smf.ols('Qualität ~ Kosten + Zugänglichkeit + C(Jahr)', data=df_r).fit()\n",
    "\n",
    "print(model.summary())"
   ]
  },
  {
   "cell_type": "code",
   "execution_count": 27,
   "metadata": {},
   "outputs": [
    {
     "name": "stdout",
     "output_type": "stream",
     "text": [
      "                            OLS Regression Results                            \n",
      "==============================================================================\n",
      "Dep. Variable:         Zugänglichkeit   R-squared:                       0.189\n",
      "Model:                            OLS   Adj. R-squared:                  0.147\n",
      "Method:                 Least Squares   F-statistic:                     4.493\n",
      "Date:                 Sa, 08 Mrz 2025   Prob (F-statistic):           7.06e-07\n",
      "Time:                        13:18:09   Log-Likelihood:                -140.16\n",
      "No. Observations:                 264   AIC:                             308.3\n",
      "Df Residuals:                     250   BIC:                             358.4\n",
      "Df Model:                          13                                         \n",
      "Covariance Type:            nonrobust                                         \n",
      "===================================================================================\n",
      "                      coef    std err          t      P>|t|      [0.025      0.975]\n",
      "-----------------------------------------------------------------------------------\n",
      "Intercept           0.0806      0.091      0.890      0.374      -0.098       0.259\n",
      "C(Jahr)[T.2012]    -0.0165      0.128     -0.129      0.897      -0.268       0.235\n",
      "C(Jahr)[T.2013]     0.0607      0.128      0.473      0.636      -0.192       0.313\n",
      "C(Jahr)[T.2014]     0.1244      0.129      0.966      0.335      -0.129       0.378\n",
      "C(Jahr)[T.2015]     0.0868      0.128      0.678      0.498      -0.165       0.339\n",
      "C(Jahr)[T.2016]    -0.0316      0.128     -0.247      0.805      -0.284       0.221\n",
      "C(Jahr)[T.2017]     0.0199      0.129      0.154      0.877      -0.234       0.274\n",
      "C(Jahr)[T.2018]    -0.0334      0.129     -0.260      0.795      -0.287       0.220\n",
      "C(Jahr)[T.2019]     0.0249      0.130      0.192      0.848      -0.231       0.281\n",
      "C(Jahr)[T.2020]     0.0684      0.129      0.530      0.597      -0.186       0.322\n",
      "C(Jahr)[T.2021]     0.1500      0.129      1.162      0.246      -0.104       0.404\n",
      "C(Jahr)[T.2022]     0.0930      0.129      0.719      0.473      -0.162       0.348\n",
      "Qualität           -0.4300      0.061     -7.064      0.000      -0.550      -0.310\n",
      "Kosten              0.3448      0.061      5.667      0.000       0.225       0.465\n",
      "==============================================================================\n",
      "Omnibus:                        0.446   Durbin-Watson:                   0.282\n",
      "Prob(Omnibus):                  0.800   Jarque-Bera (JB):                0.376\n",
      "Skew:                           0.092   Prob(JB):                        0.829\n",
      "Kurtosis:                       3.004   Cond. No.                         13.7\n",
      "==============================================================================\n",
      "\n",
      "Notes:\n",
      "[1] Standard Errors assume that the covariance matrix of the errors is correctly specified.\n"
     ]
    }
   ],
   "source": [
    "# regression for quality_i,j = a + b * Kosten_i,j + c * Zugänglichkeit_i,j + d * Jahr_i + e * Codierung_i\n",
    "model = smf.ols('Zugänglichkeit ~ Qualität + Kosten + C(Jahr)', data=df_r).fit()\n",
    "\n",
    "print(model.summary())"
   ]
  },
  {
   "cell_type": "code",
   "execution_count": 28,
   "metadata": {},
   "outputs": [
    {
     "name": "stdout",
     "output_type": "stream",
     "text": [
      "                            OLS Regression Results                            \n",
      "==============================================================================\n",
      "Dep. Variable:                 Kosten   R-squared:                       0.456\n",
      "Model:                            OLS   Adj. R-squared:                  0.428\n",
      "Method:                 Least Squares   F-statistic:                     16.12\n",
      "Date:                 Sa, 08 Mrz 2025   Prob (F-statistic):           1.69e-26\n",
      "Time:                        13:18:17   Log-Likelihood:                -134.44\n",
      "No. Observations:                 264   AIC:                             296.9\n",
      "Df Residuals:                     250   BIC:                             346.9\n",
      "Df Model:                          13                                         \n",
      "Covariance Type:            nonrobust                                         \n",
      "===================================================================================\n",
      "                      coef    std err          t      P>|t|      [0.025      0.975]\n",
      "-----------------------------------------------------------------------------------\n",
      "Intercept           0.0763      0.089      0.861      0.390      -0.098       0.251\n",
      "C(Jahr)[T.2012]    -0.0147      0.125     -0.118      0.906      -0.261       0.231\n",
      "C(Jahr)[T.2013]    -0.1326      0.125     -1.058      0.291      -0.379       0.114\n",
      "C(Jahr)[T.2014]    -0.1965      0.126     -1.564      0.119      -0.444       0.051\n",
      "C(Jahr)[T.2015]    -0.1195      0.125     -0.954      0.341      -0.366       0.127\n",
      "C(Jahr)[T.2016]    -0.0849      0.125     -0.678      0.498      -0.332       0.162\n",
      "C(Jahr)[T.2017]    -0.1638      0.126     -1.302      0.194      -0.412       0.084\n",
      "C(Jahr)[T.2018]    -0.0678      0.126     -0.538      0.591      -0.316       0.180\n",
      "C(Jahr)[T.2019]    -0.1805      0.127     -1.425      0.155      -0.430       0.069\n",
      "C(Jahr)[T.2020]    -0.0390      0.126     -0.309      0.757      -0.288       0.210\n",
      "C(Jahr)[T.2021]    -0.0690      0.127     -0.545      0.586      -0.318       0.180\n",
      "C(Jahr)[T.2022]    -0.0995      0.126     -0.787      0.432      -0.349       0.150\n",
      "Zugänglichkeit      0.3302      0.058      5.667      0.000       0.215       0.445\n",
      "Qualität            0.6822      0.049     13.943      0.000       0.586       0.779\n",
      "==============================================================================\n",
      "Omnibus:                        3.764   Durbin-Watson:                   0.286\n",
      "Prob(Omnibus):                  0.152   Jarque-Bera (JB):                3.476\n",
      "Skew:                           0.221   Prob(JB):                        0.176\n",
      "Kurtosis:                       3.347   Cond. No.                         13.4\n",
      "==============================================================================\n",
      "\n",
      "Notes:\n",
      "[1] Standard Errors assume that the covariance matrix of the errors is correctly specified.\n"
     ]
    }
   ],
   "source": [
    "# regression for quality_i,j = a + b * Kosten_i,j + c * Zugänglichkeit_i,j + d * Jahr_i + e * Codierung_i\n",
    "model = smf.ols('Kosten ~ Zugänglichkeit + Qualität + C(Jahr)', data=df_r).fit()\n",
    "\n",
    "print(model.summary())"
   ]
  },
  {
   "cell_type": "code",
   "execution_count": null,
   "metadata": {},
   "outputs": [],
   "source": []
  }
 ],
 "metadata": {
  "kernelspec": {
   "display_name": "Finance",
   "language": "python",
   "name": "python3"
  },
  "language_info": {
   "codemirror_mode": {
    "name": "ipython",
    "version": 3
   },
   "file_extension": ".py",
   "mimetype": "text/x-python",
   "name": "python",
   "nbconvert_exporter": "python",
   "pygments_lexer": "ipython3",
   "version": "3.11.5"
  }
 },
 "nbformat": 4,
 "nbformat_minor": 2
}
