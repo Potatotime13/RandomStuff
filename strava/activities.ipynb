{
 "cells": [
  {
   "cell_type": "code",
   "execution_count": 1,
   "metadata": {},
   "outputs": [
    {
     "name": "stderr",
     "output_type": "stream",
     "text": [
      "ERROR:root:Please make sure your STRAVA_CLIENT_ID is set in your environment.\n",
      "WARNING:root:STRAVA_CLIENT_ID and STRAVA_CLIENT_SECRET not found in your  environment. Please refresh your access_token manually. Or add STRAVA_CLIENT_ID and STRAVA_CLIENT_SECRET to your environment.\n"
     ]
    },
    {
     "name": "stdout",
     "output_type": "stream",
     "text": [
      "Token has expired, will refresh\n"
     ]
    },
    {
     "name": "stderr",
     "output_type": "stream",
     "text": [
      "WARNING:stravalib.util.limiter.SleepingRateLimitRule:No rates present in response headers\n"
     ]
    },
    {
     "name": "stdout",
     "output_type": "stream",
     "text": [
      "Refreshed token saved to file\n"
     ]
    }
   ],
   "source": [
    "import time\n",
    "import pickle\n",
    "import pandas as pd\n",
    "import numpy as np\n",
    "\n",
    "with open('strava/access_token.pickle', 'rb') as f:\n",
    "    access_token = pickle.load(f)\n",
    "\n",
    "MY_STRAVA_CLIENT_ID, MY_STRAVA_CLIENT_SECRET, token = open('strava/client.secret').read().strip().split(',')\n",
    "\n",
    "from stravalib.client import Client\n",
    "\n",
    "client = Client()\n",
    "\n",
    "if time.time() > access_token['expires_at']:\n",
    "    print('Token has expired, will refresh')\n",
    "    refresh_response = client.refresh_access_token(client_id=MY_STRAVA_CLIENT_ID, \n",
    "                                               client_secret=MY_STRAVA_CLIENT_SECRET, \n",
    "                                               refresh_token=access_token['refresh_token'])\n",
    "    access_token = refresh_response\n",
    "    with open('../access_token.pickle', 'wb') as f:\n",
    "        pickle.dump(refresh_response, f)\n",
    "    print('Refreshed token saved to file')\n",
    "\n",
    "    client.access_token = refresh_response['access_token']\n",
    "    client.refresh_token = refresh_response['refresh_token']\n",
    "    client.token_expires_at = refresh_response['expires_at']\n",
    "        \n",
    "else:\n",
    "    print('Token still valid, expires at {}'\n",
    "          .format(time.strftime(\"%a, %d %b %Y %H:%M:%S %Z\", time.localtime(access_token['expires_at']))))\n",
    "\n",
    "    client.access_token = access_token['access_token']\n",
    "    client.refresh_token = access_token['refresh_token']\n",
    "    client.token_expires_at = access_token['expires_at']"
   ]
  },
  {
   "cell_type": "code",
   "execution_count": 2,
   "metadata": {},
   "outputs": [
    {
     "name": "stdout",
     "output_type": "stream",
     "text": [
      "Athlete's name is Lucas Menger, based in Frankfurt am Main, Germany\n"
     ]
    }
   ],
   "source": [
    "athlete = client.get_athlete()\n",
    "print(\"Athlete's name is {} {}, based in {}, {}\"\n",
    "      .format(athlete.firstname, athlete.lastname, athlete.city, athlete.country))"
   ]
  },
  {
   "cell_type": "code",
   "execution_count": 3,
   "metadata": {},
   "outputs": [
    {
     "data": {
      "text/plain": [
       "[SummaryActivity(bound_client=<stravalib.client.Client object at 0x0000023C39EF8DD0>, id=13706990055, achievement_count=3, athlete=MetaAthlete(bound_client=None, id=35616673, resource_state=1), athlete_count=2, average_speed=1.813, average_watts=89.8, comment_count=0, commute=False, device_watts=False, distance=13323.9, elapsed_time=11608, elev_high=431.9, elev_low=230.6, end_latlng=LatLon(root=[49.792068, 8.668235]), external_id='garmin_ping_413607775571', flagged=False, gear_id='b10756923', has_kudoed=False, hide_from_home=None, kilojoules=660.1, kudos_count=0, manual=False, map=Map(id='a13706990055', polyline=None, summary_polyline='ct{nHgv{s@tAdAl@RbEZrBiAl@o@|BiF\\\\UrACl@Wv@A~B]rAf@`AH^g@~@Ul@@t@w@PHWLQAIZ]JmAGe@UEE?w@He@QAi@mBKe@Cm@QYUEcAoAe@[w@Ow@Py@OcA}AUGGYRCdBu@^CdAVjBBhAOzA`@nBVn@^dAz@x@Er@P\\\\Tp@Gr@LZ^l@bAxAnAbBNhAIzAa@|@@vDtAh@^zAdBjA|Av@nAJd@hC|G\\\\lBFn@ObCD_@DCNXLhA|@OZXVBd@VHb@d@r@FrAlKd@XINw@KRAE\\\\Un@Lv@h@lEwAf@Er@]tAwA~@I~@b@ZF~@E`Ac@`@zABt@Ch@Kb@}AtA_CJuACmAT{AvA}AhAi@RkBIqCLuBg@YUYEc@a@aAqBk@o@KYl@Un@AdENr@PFEB[FGVHSEXWtAJ^Rd@[f@EnDw@TSz@WXBSMW?JSMJTBSCQPj@JQMB@l@cAj@OrBh@fBIVWBKRABg@]oBK_AM]iA_A]g@m@g@_@IkBP_AbAWB_ASWYm@yBkAqA}ACw@Ui@u@{@m@sCMg@i@_@_A{@y@y@]gBwCqAwAcBeDMe@e@mDYcAo@}@s@s@y@p@aEtBa@x@iAz@gFfBuAn@_@`@iABmBgAq@Ek@JuAr@o@Nu@AmBc@g@BiAf@a@^s@\\\\CIb@[QRKe@o@WiAiAkBo@_@CGa@Jq@LWYBURYcAc@_@]mAOCaAPk@a@}@Oy@Nm@Va@^g@Jy@C[h@e@pCKTkAPc@PgA`Au@Ck@oAWa@qAU_Ay@OCN`A\\\\|@jArARhEDZXd@i@o@}@sBsAm@c@Es@Ha@RuCrBcEdBy@KmCiBq@gAe@a@OAgA`@o@^sGkEw@U}BgAW_@WgACm@Ma@UMe@Fk@XeAV_A`Am@L{C?cA[aBw@RRKvATOEgASCDZJ?a@jBOTg@TGZA`AY\\\\e@Cg@n@a@PEjALbBe@tCwAzCy@jCe@z@{AhBOFUIQTDJRC\\\\KZUaARY~CPb@?t@^L`@ObAoADOjAsAf@_Bd@}@t@cA^u@RUZKtAaAXg@r@q@d@Qh@NxCJfCi@d@UnA_BZQd@KjB}@xBi@pBc@d@Bf@NVhA\\\\d@AlCEr@Ml@JR\\\\GzBDxAZb@VvAf@bBlAtA\\\\'), max_speed=9.2, max_watts=None, moving_time=7348, name='Afternoon Ride', photo_count=0, private=True, sport_type=RelaxedSportType(root='Ride'), start_date=datetime.datetime(2025, 2, 23, 13, 14, 46, tzinfo=TzInfo(UTC)), start_date_local=datetime.datetime(2025, 2, 23, 14, 14, 46, tzinfo=TzInfo(UTC)), start_latlng=LatLon(root=[49.792107, 8.668167]), timezone='(GMT+01:00) Europe/Berlin', total_elevation_gain=510.3, total_photo_count=0, trainer=False, type=RelaxedActivityType(root='Ride'), upload_id=14627629818, upload_id_str='14627629818', weighted_average_watts=None, workout_type=None, utc_offset=3600.0, location_city=None, location_state=None, location_country='Germany', pr_count=0, suffer_score=57, has_heartrate=True, average_heartrate=137.9, max_heartrate=160, average_cadence=None, from_accepted_tag=False, visibility='only_me'),\n",
       " SummaryActivity(bound_client=<stravalib.client.Client object at 0x0000023C39EF8DD0>, id=13706996918, achievement_count=3, athlete=MetaAthlete(bound_client=None, id=35616673, resource_state=1), athlete_count=2, average_speed=1.603, average_watts=99.1, comment_count=0, commute=False, device_watts=False, distance=12662.3, elapsed_time=11662, elev_high=435.8, elev_low=231.4, end_latlng=LatLon(root=[49.792062, 8.668178]), external_id='garmin_ping_413607929532', flagged=False, gear_id='b10756923', has_kudoed=False, hide_from_home=None, kilojoules=782.5, kudos_count=0, manual=False, map=Map(id='a13706996918', polyline=None, summary_polyline='gt{nHcv{s@lBxAfF\\\\VOGDAK^GxA}@tA}CdAoBRMjA?r@[n@BxBc@tBr@f@Ax@u@dBOIEBPKILYEYBHHWCOFx@GNBGHViCKKHMa@ZiAOOSBAYQEC]KQB_@QYCu@[YSBmAaBm@a@w@Km@XaAOEa@q@oAO?TUbB_@|ERl@SbEd@\\\\L~AtAvBP\\\\^n@Gr@PZRfAhBfAn@fCP\\\\GJU~BOvB`@xAx@jD|DzAxB`CfHb@lBHhAGlAKXJ]NV@pAhASP^dAVFn@h@f@BVK^P\\\\LKlE\\\\j@K`D\\\\RIEw@H@CJFKSDPBCOJ@R[^Pt@z@VDXa@f@?f@[hCa@d@c@d@GFGIVo@DJMFLMGFNAOG?@GVAGFHQH@I@BGETEKHEMNTOMRPAMBDEGUCFHOOPFIDZCOLBAQG@JHQFFLBIIKLGMTAOGPNSZ?JS@\\\\GM?X[AG]KNN@GJF?KBPOK@@IHBEFIACCPDAKGNB@HC@c@Ab@KALSo@z@sAZCKfAYVYh@Az@eBb@OX?t@v@xCKLYE_@Na@g@iD_DeCwCOWPi@~@s@Ny@c@KSKkAU{@mAiAg@IcAPeA]i@aASOgDSYQk@kBc@a@}As@i@sA}@yA_DyE_AiG_@w@qAuAsFzCw@~AgBlA_FlA}AjAaA?cCcAm@FiBbAwEe@u@FgD|AJUFADo@o@Yg@_AwBc@SYs@BK{@GBH{@c@g@YAYcBINmA@mAy@s@BaAVw@j@sAEe@bAUlCYl@kAIkBzAWMU}@w@s@sAQmAeAQC~@`CjAtANbABrBF^b@^MTWK@Mg@q@c@iA_@_@}Be@kAh@kAjAiFhBo@f@NEcAYu@s@eAc@gAaBq@SiBp@oAiAmCyAoDkBeA]CJOg@?cAOO?q@IY_@WUZOC_@^_@Ai@LqAlBkFc@aBi@GUCrADZOr@Jg@GGFC@m@Aw@JTGSDTAOJRm@Yp@FF^WZ?TWr@cAj@GVDbAITONq@C[t@g@@CJDlARxAa@n@IxAq@rBo@b@Fj@I^i@j@Kl@u@x@aAdB[AIZW?OlAB[@m@j@_@NH^UWRu@F[|A@x@j@`AIb@KCdAEnCeDl@cBrA}Bj@gBfCmAb@u@x@s@b@MlDf@r@EzBu@Z[Tm@pA{@vD}A|@EbBe@`Bd@~@~BFp@]bEHPNYPGrCBxDtAjBvAxA\\\\'), max_speed=10.1, max_watts=None, moving_time=7898, name='Afternoon Mountain Bike Ride', photo_count=0, private=True, sport_type=RelaxedSportType(root='MountainBikeRide'), start_date=datetime.datetime(2025, 2, 23, 13, 14, 38, tzinfo=TzInfo(UTC)), start_date_local=datetime.datetime(2025, 2, 23, 14, 14, 38, tzinfo=TzInfo(UTC)), start_latlng=LatLon(root=[49.792087, 8.668205]), timezone='(GMT+01:00) Europe/Berlin', total_elevation_gain=489.0, total_photo_count=0, trainer=False, type=RelaxedActivityType(root='Ride'), upload_id=14627636923, upload_id_str='14627636923', weighted_average_watts=None, workout_type=None, utc_offset=3600.0, location_city=None, location_state=None, location_country='Germany', pr_count=0, suffer_score=106, has_heartrate=True, average_heartrate=147.2, max_heartrate=176, average_cadence=None, from_accepted_tag=False, visibility='only_me'),\n",
       " SummaryActivity(bound_client=<stravalib.client.Client object at 0x0000023C39EF8DD0>, id=13702845111, achievement_count=0, athlete=MetaAthlete(bound_client=None, id=35616673, resource_state=1), athlete_count=1, average_speed=4.738, average_watts=152.4, comment_count=0, commute=False, device_watts=False, distance=6444.1, elapsed_time=1551, elev_high=116.0, elev_low=95.8, end_latlng=LatLon(root=[50.102448, 8.689202]), external_id='garmin_ping_413525847733', flagged=False, gear_id='b10756923', has_kudoed=False, hide_from_home=None, kilojoules=207.3, kudos_count=0, manual=False, map=Map(id='a13702845111', polyline=None, summary_polyline='m|spHijts@f@@FFHNBAJa@DChAJrADXGbBMPCZOdAo@PI`@[R]VmANOFAP?DCBICg@^kNH_BBmBZuITqE?{AE{BEyAQiBSaDMeA]uCc@eCEMKy@AU@c@Gq@e@cEo@sE[oCs@eF_AaIKyBJmKGsA@q@wFuLi@qAOkAQYa@Ym@{@y@sA[Yy@qAmDmEMUC[EKIECIOM]S{BuCwEqFaGkHsBkCw@yAeA_CqAiCi@oAkAiCK]{@sBa@u@gAcCs@uAWm@ASM[uA_DKEWc@u@cBq@oBYo@Ma@WsAq@sA{AiDK]?QHaAAOM]k@_A[a@IGa@GUQGKuLyW]w@oBiEk@yAMWIGSIGGqAqBgCcFu@kBEEOG_@GQD{@ZWI[L}AnAuBvAORCREHB`@CDGAKk@CIQMEK?MKUi@kAKG_B}De@wAe@qB[_ASaAOi@gCwGW}@EIOMm@MYUOUOg@E]Ak@D_@'), max_speed=7.433, max_watts=None, moving_time=1360, name='Lunch Mountain Bike Ride', photo_count=0, private=True, sport_type=RelaxedSportType(root='MountainBikeRide'), start_date=datetime.datetime(2025, 2, 23, 10, 8, 41, tzinfo=TzInfo(UTC)), start_date_local=datetime.datetime(2025, 2, 23, 11, 8, 41, tzinfo=TzInfo(UTC)), start_latlng=LatLon(root=[50.07908, 8.628915]), timezone='(GMT+01:00) Europe/Berlin', total_elevation_gain=33.0, total_photo_count=0, trainer=False, type=RelaxedActivityType(root='Ride'), upload_id=14623165298, upload_id_str='14623165298', weighted_average_watts=None, workout_type=None, utc_offset=3600.0, location_city=None, location_state=None, location_country='Germany', pr_count=0, suffer_score=4, has_heartrate=True, average_heartrate=118.6, max_heartrate=150, average_cadence=None, from_accepted_tag=False, visibility='only_me'),\n",
       " SummaryActivity(bound_client=<stravalib.client.Client object at 0x0000023C39EF8DD0>, id=13689242754, achievement_count=0, athlete=MetaAthlete(bound_client=None, id=35616673, resource_state=1), athlete_count=1, average_speed=0.0, average_watts=None, comment_count=0, commute=False, device_watts=None, distance=0.0, elapsed_time=6802, elev_high=0.0, elev_low=0.0, end_latlng=None, external_id='garmin_ping_413065858667', flagged=False, gear_id=None, has_kudoed=False, hide_from_home=None, kilojoules=None, kudos_count=0, manual=False, map=Map(id='a13689242754', polyline=None, summary_polyline=''), max_speed=0.0, max_watts=None, moving_time=6802, name='Uni Bouldern', photo_count=0, private=True, sport_type=RelaxedSportType(root='RockClimbing'), start_date=datetime.datetime(2025, 2, 21, 17, 17, 6, tzinfo=TzInfo(UTC)), start_date_local=datetime.datetime(2025, 2, 21, 18, 17, 6, tzinfo=TzInfo(UTC)), start_latlng=None, timezone='(GMT+01:00) Africa/Algiers', total_elevation_gain=0.0, total_photo_count=0, trainer=True, type=RelaxedActivityType(root='RockClimbing'), upload_id=14608301812, upload_id_str='14608301812', weighted_average_watts=None, workout_type=None, utc_offset=3600.0, location_city=None, location_state=None, location_country='Germany', pr_count=0, suffer_score=75, has_heartrate=True, average_heartrate=130.8, max_heartrate=165, average_cadence=None, from_accepted_tag=False, visibility='only_me'),\n",
       " SummaryActivity(bound_client=<stravalib.client.Client object at 0x0000023C39EF8DD0>, id=13670642700, achievement_count=1, athlete=MetaAthlete(bound_client=None, id=35616673, resource_state=1), athlete_count=1, average_speed=4.232, average_watts=160.1, comment_count=0, commute=False, device_watts=False, distance=10419.9, elapsed_time=2683, elev_high=123.2, elev_low=89.2, end_latlng=LatLon(root=[50.079282, 8.62968]), external_id='garmin_ping_412460877503', flagged=False, gear_id='b10756923', has_kudoed=False, hide_from_home=None, kilojoules=394.1, kudos_count=0, manual=False, map=Map(id='a13670642700', polyline=None, summary_polyline='_~spHijts@ZG^A\\\\PFLLFBCBI@YHGr@@lAAVGVHb@C`@Bl@G`@OtAy@\\\\]JMLWRy@HSNGVCd@?FJB\\\\Cj@MjAE`ACvDBbB@zCGpBm@jFYzCmCdUQlCYd]AjBBhDEhBQ`CaAbKU`Bi@xCKvAAnCh@rJ\\\\bIFrBHrAZ~AAROf@Id@GzAGZHVFDlB^hFzAxBj@lBl@|EtA`FlAtDlAj@`@lBvBJEDITuA@WAKEIWWQKk@e@[]Wa@c@WQE_@UQWIESFQXWz@KHPg@@MDHAJBIAD@O?F?BACAF@KCB?G@NBa@C`@?G@B?DEH?WJ[PULGF@X\\\\TLLB?@MA]YOUG@]`@Wx@GFMA_@MUHGL@HPJzC|@v@`@h@d@x@dA^TDF?LI\\\\APC~FIrCEbAEbFM~C@j@KnAM`E[lOE`AQdCYlB?`@?DEBOi@Bc@EGy@I_BBwA?GGCKFaC@kCFeAK{COuBB_BN{CGqBAoAFiA@y@Aw@GeAIoCM{GGaBG]i@uBo@}ASyB@yAFIPCjDx@bA\\\\vBj@\\\\Nj@\\\\lBzBFBDCHST}A?KIUi@e@s@g@MM]k@MK{@]SSGKIEa@RW|@GLOBe@QcAq@[Qk@OaASIECKBs@Dk@Pc@p@kAb@WVIXQb@YtC{CBIUiAA{@G]Wi@CWA?DoAAe@B}B@CGJCADBA?@?@K@`@AxA@r@ALAy@BaBCSWUo@OgAm@s@QcCc@q@OQIeBYcCg@SCw@QkAQyCo@o@I}Co@SGEMK{AG{BDkA\\\\mCPeA`@cDdAmKJaB@{JFcBCwA@kDPqQReCPwAdA_Jx@uH|@qHHsA@k@A}DI{DIeHKOQ?EBCFMJU|@S^IJ}AdAi@TSDe@?w@J]VG@IHu@Ts@?OAC@SSKSIMAEKE[?MHk@N'), max_speed=8.28, max_watts=None, moving_time=2462, name='Afternoon Mountain Bike Ride', photo_count=0, private=True, sport_type=RelaxedSportType(root='MountainBikeRide'), start_date=datetime.datetime(2025, 2, 19, 15, 37, 45, tzinfo=TzInfo(UTC)), start_date_local=datetime.datetime(2025, 2, 19, 16, 37, 45, tzinfo=TzInfo(UTC)), start_latlng=LatLon(root=[50.079328, 8.628777]), timezone='(GMT+01:00) Europe/Berlin', total_elevation_gain=97.0, total_photo_count=0, trainer=False, type=RelaxedActivityType(root='Ride'), upload_id=14587962508, upload_id_str='14587962508', weighted_average_watts=None, workout_type=None, utc_offset=3600.0, location_city=None, location_state=None, location_country='Germany', pr_count=0, suffer_score=48, has_heartrate=True, average_heartrate=153.9, max_heartrate=177, average_cadence=None, from_accepted_tag=False, visibility='only_me'),\n",
       " SummaryActivity(bound_client=<stravalib.client.Client object at 0x0000023C39EF8DD0>, id=13654407344, achievement_count=0, athlete=MetaAthlete(bound_client=None, id=35616673, resource_state=1), athlete_count=1, average_speed=0.0, average_watts=None, comment_count=0, commute=False, device_watts=None, distance=0.0, elapsed_time=10800, elev_high=None, elev_low=None, end_latlng=None, external_id=None, flagged=False, gear_id=None, has_kudoed=False, hide_from_home=None, kilojoules=None, kudos_count=0, manual=True, map=Map(id='a13654407344', polyline=None, summary_polyline=''), max_speed=0.0, max_watts=None, moving_time=10800, name='Uni Bouldern', photo_count=0, private=True, sport_type=RelaxedSportType(root='RockClimbing'), start_date=datetime.datetime(2025, 2, 17, 17, 0, 15, tzinfo=TzInfo(UTC)), start_date_local=datetime.datetime(2025, 2, 17, 18, 0, 15, tzinfo=TzInfo(UTC)), start_latlng=None, timezone='(GMT+01:00) Europe/Berlin', total_elevation_gain=0.0, total_photo_count=0, trainer=False, type=RelaxedActivityType(root='RockClimbing'), upload_id=None, upload_id_str=None, weighted_average_watts=None, workout_type=None, utc_offset=3600.0, location_city=None, location_state=None, location_country='Germany', pr_count=0, suffer_score=120, has_heartrate=False, average_heartrate=None, max_heartrate=None, average_cadence=None, from_accepted_tag=False, visibility='only_me'),\n",
       " SummaryActivity(bound_client=<stravalib.client.Client object at 0x0000023C39EF8DD0>, id=13634040277, achievement_count=0, athlete=MetaAthlete(bound_client=None, id=35616673, resource_state=1), athlete_count=1, average_speed=0.0, average_watts=None, comment_count=0, commute=False, device_watts=None, distance=0.0, elapsed_time=6085, elev_high=0.0, elev_low=0.0, end_latlng=None, external_id='garmin_ping_411293119155', flagged=False, gear_id=None, has_kudoed=False, hide_from_home=None, kilojoules=None, kudos_count=0, manual=False, map=Map(id='a13634040277', polyline=None, summary_polyline=''), max_speed=0.0, max_watts=None, moving_time=6085, name='Afternoon Weight Training', photo_count=0, private=True, sport_type=RelaxedSportType(root='WeightTraining'), start_date=datetime.datetime(2025, 2, 15, 13, 7, 59, tzinfo=TzInfo(UTC)), start_date_local=datetime.datetime(2025, 2, 15, 14, 7, 59, tzinfo=TzInfo(UTC)), start_latlng=None, timezone='(GMT+01:00) Africa/Algiers', total_elevation_gain=0.0, total_photo_count=0, trainer=True, type=RelaxedActivityType(root='WeightTraining'), upload_id=14547860015, upload_id_str='14547860015', weighted_average_watts=None, workout_type=None, utc_offset=3600.0, location_city=None, location_state=None, location_country='Germany', pr_count=0, suffer_score=13, has_heartrate=True, average_heartrate=96.8, max_heartrate=140, average_cadence=None, from_accepted_tag=False, visibility='only_me'),\n",
       " SummaryActivity(bound_client=<stravalib.client.Client object at 0x0000023C39EF8DD0>, id=13633975224, achievement_count=0, athlete=MetaAthlete(bound_client=None, id=35616673, resource_state=1), athlete_count=1, average_speed=0.0, average_watts=None, comment_count=0, commute=False, device_watts=None, distance=0.0, elapsed_time=5709, elev_high=0.0, elev_low=0.0, end_latlng=None, external_id='garmin_ping_411291594190', flagged=False, gear_id=None, has_kudoed=False, hide_from_home=None, kilojoules=None, kudos_count=0, manual=False, map=Map(id='a13633975224', polyline=None, summary_polyline=''), max_speed=0.0, max_watts=None, moving_time=5709, name='Afternoon Weight Training', photo_count=0, private=True, sport_type=RelaxedSportType(root='WeightTraining'), start_date=datetime.datetime(2025, 2, 15, 13, 7, 29, tzinfo=TzInfo(UTC)), start_date_local=datetime.datetime(2025, 2, 15, 14, 7, 29, tzinfo=TzInfo(UTC)), start_latlng=None, timezone='(GMT+01:00) Africa/Algiers', total_elevation_gain=0.0, total_photo_count=0, trainer=True, type=RelaxedActivityType(root='WeightTraining'), upload_id=14547789116, upload_id_str='14547789116', weighted_average_watts=None, workout_type=None, utc_offset=3600.0, location_city=None, location_state=None, location_country='Germany', pr_count=0, suffer_score=63, has_heartrate=True, average_heartrate=134.6, max_heartrate=169, average_cadence=None, from_accepted_tag=False, visibility='only_me'),\n",
       " SummaryActivity(bound_client=<stravalib.client.Client object at 0x0000023C39EF8DD0>, id=13627578025, achievement_count=0, athlete=MetaAthlete(bound_client=None, id=35616673, resource_state=1), athlete_count=1, average_speed=0.0, average_watts=None, comment_count=0, commute=False, device_watts=None, distance=0.0, elapsed_time=9693, elev_high=0.0, elev_low=0.0, end_latlng=None, external_id='garmin_ping_411076272817', flagged=False, gear_id=None, has_kudoed=False, hide_from_home=None, kilojoules=None, kudos_count=0, manual=False, map=Map(id='a13627578025', polyline=None, summary_polyline=''), max_speed=0.0, max_watts=None, moving_time=9693, name='Uni Bouldern', photo_count=0, private=True, sport_type=RelaxedSportType(root='RockClimbing'), start_date=datetime.datetime(2025, 2, 14, 17, 16, 22, tzinfo=TzInfo(UTC)), start_date_local=datetime.datetime(2025, 2, 14, 18, 16, 22, tzinfo=TzInfo(UTC)), start_latlng=None, timezone='(GMT+01:00) Africa/Algiers', total_elevation_gain=0.0, total_photo_count=0, trainer=True, type=RelaxedActivityType(root='RockClimbing'), upload_id=14540764162, upload_id_str='14540764162', weighted_average_watts=None, workout_type=None, utc_offset=3600.0, location_city=None, location_state=None, location_country='Germany', pr_count=0, suffer_score=107, has_heartrate=True, average_heartrate=127.1, max_heartrate=168, average_cadence=None, from_accepted_tag=False, visibility='only_me'),\n",
       " SummaryActivity(bound_client=<stravalib.client.Client object at 0x0000023C39EF8DD0>, id=13609452926, achievement_count=1, athlete=MetaAthlete(bound_client=None, id=35616673, resource_state=1), athlete_count=1, average_speed=5.362, average_watts=170.4, comment_count=0, commute=False, device_watts=False, distance=14804.5, elapsed_time=2960, elev_high=125.2, elev_low=91.4, end_latlng=LatLon(root=[50.102508, 8.689045]), external_id='garmin_ping_410473532905', flagged=False, gear_id='b10756923', has_kudoed=False, hide_from_home=None, kilojoules=470.5, kudos_count=0, manual=False, map=Map(id='a13609452926', polyline=None, summary_polyline='{_tpHkits@fBa@LAJ@PJNPHBN_@HIHAd@Av@G^@JBf@Aj@Gt@?TC\\\\Qz@g@RI\\\\]FKL]P{@LSFCTAd@BFFFX?XS`CGfEBhGCjAKnAaBlNWrCW~AIfAu@fGMdBEfB?xBGnFCtJEzB?tCDbCIxBe@~FQnAc@fE[~B_@pBMtAAt@BhBN`Dr@dMJzEZfCj@rCL`ABv@FLHF^FtF`BzBh@vF|AdDbAvBf@|@ZXDlA`@`@VrA~ATRNRD@LK@GPu@Fi@?MEK[_@_@Um@m@Yc@OKm@Ue@]QUIA[TYdAKDG@UIYQUSQIO@SPEFGRBJb@Dr@XfCp@fAb@TPr@`Ax@x@~AzAlElDx@t@lA~@|CjC`@^xB~A`@f@HBJRBGACYBGb@GfBMxF@FBDF?JJ?TJb@BZEdAIf@?ZHVDh@Cn@DfAGd@@PLPjAp@xDnCh@ZDABEBIBeCF}MCiES[iEqDiBsAEGCIBw@S{KWyIIoDKsZ?OF_@r@iBLc@Bo@Aq@]yAg@yAC]CqC?oDC_CCo@O}@AoEH]JwAJKp@aAzAgC`@aANg@Fq@BeACm@MWw@Eq@MMIQYMc@WaBQwAGmAIuCEkKCyK?aFAmCKkFi@eP[mCEUGKBELG\\\\C?ECAWLi@N_@@m@LMMEaCM}B{AoJEMa@c@Se@_@uBSw@wAwIcAwEo@gDWgBu@sESaACKOOIC_@BQQCMG_BMqAEsCEYUa@[[WOOEmCFw@D[MK?gAHgCJw@HqAHSDC?ASU[W_@m@m@w@iAIGSCMISs@QoB?c@Is@qBeOw@wGy@uFIcAIcBAeALgJGmBK[[m@kBcEu@uAqAmCOq@Ao@GOIOe@[_@c@gAkB[Yy@qAc@e@uCsDEICc@MI]]SMwBmC_AeAmA_B_FaGqBgCsBgCy@aBuFwLoA}Ca@u@mAsCw@aB[}@uAaD]]We@k@qAe@aBu@kBWmA}AaD_@i@WeACSD}@Ky@y@sAUWe@IKGUWa@u@Wg@Mc@Ys@{M}Yw@mBGK]OGIu@kAc@i@M_@o@{Ao@mAGGSIGGw@_BWQKC_AZQIG?wDxBsAhAEHAPDZALEDEGQu@IEEKCYQ]GSCCOc@OCGGWy@]y@u@uBaBgFKgAYa@i@_BqAkDYaAGGQIe@EKGUSQ_@Ow@Ac@?Q'), max_speed=10.05, max_watts=None, moving_time=2761, name='Afternoon Mountain Bike Ride', photo_count=0, private=True, sport_type=RelaxedSportType(root='MountainBikeRide'), start_date=datetime.datetime(2025, 2, 12, 15, 31, 27, tzinfo=TzInfo(UTC)), start_date_local=datetime.datetime(2025, 2, 12, 16, 31, 27, tzinfo=TzInfo(UTC)), start_latlng=LatLon(root=[50.079686, 8.629574]), timezone='(GMT+01:00) Europe/Berlin', total_elevation_gain=107.0, total_photo_count=0, trainer=False, type=RelaxedActivityType(root='Ride'), upload_id=14520958479, upload_id_str='14520958479', weighted_average_watts=None, workout_type=None, utc_offset=3600.0, location_city=None, location_state=None, location_country='Germany', pr_count=1, suffer_score=29, has_heartrate=True, average_heartrate=139.5, max_heartrate=169, average_cadence=None, from_accepted_tag=False, visibility='only_me')]"
      ]
     },
     "execution_count": 3,
     "metadata": {},
     "output_type": "execute_result"
    }
   ],
   "source": [
    "activities = client.get_activities(limit=1000)\n",
    "list(activities)[0:10]"
   ]
  },
  {
   "cell_type": "code",
   "execution_count": 16,
   "metadata": {},
   "outputs": [],
   "source": [
    "data = []\n",
    "for activity in activities:\n",
    "    tmp = {\n",
    "        'type': activity.type,\n",
    "        'name': activity.name,\n",
    "        'start_date_local': activity.start_date_local,\n",
    "        'moving_time': activity.moving_time,\n",
    "        'elapsed_time': activity.elapsed_time,\n",
    "        'average_heartrate': activity.average_heartrate,\n",
    "        'max_heartrate': activity.max_heartrate,\n",
    "    }\n",
    "    data.append(tmp)\n",
    "\n",
    "df = pd.DataFrame(data)"
   ]
  },
  {
   "cell_type": "code",
   "execution_count": 17,
   "metadata": {},
   "outputs": [
    {
     "data": {
      "application/vnd.microsoft.datawrangler.viewer.v0+json": {
       "columns": [
        {
         "name": "index",
         "rawType": "int64",
         "type": "integer"
        },
        {
         "name": "type",
         "rawType": "object",
         "type": "unknown"
        },
        {
         "name": "name",
         "rawType": "object",
         "type": "string"
        },
        {
         "name": "start_date_local",
         "rawType": "datetime64[ns, UTC]",
         "type": "unknown"
        },
        {
         "name": "moving_time",
         "rawType": "int64",
         "type": "integer"
        },
        {
         "name": "elapsed_time",
         "rawType": "int64",
         "type": "integer"
        },
        {
         "name": "average_heartrate",
         "rawType": "float64",
         "type": "float"
        },
        {
         "name": "max_heartrate",
         "rawType": "float64",
         "type": "float"
        }
       ],
       "conversionMethod": "pd.DataFrame",
       "ref": "c3edd164-501a-4dba-8345-09bb332a754a",
       "rows": [
        [
         "0",
         "root='Ride'",
         "Afternoon Ride",
         "2025-02-23 14:14:46+00:00",
         "7348",
         "11608",
         "137.9",
         "160.0"
        ],
        [
         "1",
         "root='Ride'",
         "Afternoon Mountain Bike Ride",
         "2025-02-23 14:14:38+00:00",
         "7898",
         "11662",
         "147.2",
         "176.0"
        ],
        [
         "2",
         "root='Ride'",
         "Lunch Mountain Bike Ride",
         "2025-02-23 11:08:41+00:00",
         "1360",
         "1551",
         "118.6",
         "150.0"
        ],
        [
         "3",
         "root='RockClimbing'",
         "Uni Bouldern",
         "2025-02-21 18:17:06+00:00",
         "6802",
         "6802",
         "130.8",
         "165.0"
        ],
        [
         "4",
         "root='Ride'",
         "Afternoon Mountain Bike Ride",
         "2025-02-19 16:37:45+00:00",
         "2462",
         "2683",
         "153.9",
         "177.0"
        ],
        [
         "5",
         "root='RockClimbing'",
         "Uni Bouldern",
         "2025-02-17 18:00:15+00:00",
         "10800",
         "10800",
         null,
         null
        ],
        [
         "6",
         "root='WeightTraining'",
         "Afternoon Weight Training",
         "2025-02-15 14:07:59+00:00",
         "6085",
         "6085",
         "96.8",
         "140.0"
        ],
        [
         "7",
         "root='WeightTraining'",
         "Afternoon Weight Training",
         "2025-02-15 14:07:29+00:00",
         "5709",
         "5709",
         "134.6",
         "169.0"
        ],
        [
         "8",
         "root='RockClimbing'",
         "Uni Bouldern",
         "2025-02-14 18:16:22+00:00",
         "9693",
         "9693",
         "127.1",
         "168.0"
        ],
        [
         "9",
         "root='Ride'",
         "Afternoon Mountain Bike Ride",
         "2025-02-12 16:31:27+00:00",
         "2761",
         "2960",
         "139.5",
         "169.0"
        ],
        [
         "10",
         "root='RockClimbing'",
         "Uni Bouldern",
         "2025-02-10 18:07:46+00:00",
         "9567",
         "9567",
         "118.6",
         "157.0"
        ],
        [
         "11",
         "root='Ride'",
         "Afternoon Mountain Bike Ride",
         "2025-02-08 14:53:24+00:00",
         "6066",
         "8948",
         "140.6",
         "180.0"
        ],
        [
         "12",
         "root='RockClimbing'",
         "Uni Bouldern",
         "2025-02-07 17:59:21+00:00",
         "6508",
         "6508",
         "136.7",
         "173.0"
        ],
        [
         "13",
         "root='WeightTraining'",
         "Afternoon Weight Training",
         "2025-02-05 13:04:55+00:00",
         "5486",
         "5486",
         "138.6",
         "182.0"
        ],
        [
         "14",
         "root='WeightTraining'",
         "Afternoon Weight Training",
         "2025-02-05 13:04:01+00:00",
         "5628",
         "5628",
         "95.7",
         "150.0"
        ],
        [
         "15",
         "root='RockClimbing'",
         "Uni bouldern",
         "2025-02-03 18:32:37+00:00",
         "6910",
         "6910",
         "131.9",
         "169.0"
        ],
        [
         "16",
         "root='Ride'",
         "Afternoon Mountain Bike Ride",
         "2025-02-01 14:42:11+00:00",
         "6538",
         "8522",
         "152.3",
         "184.0"
        ],
        [
         "17",
         "root='RockClimbing'",
         "Uni Bouldern",
         "2025-01-31 18:48:34+00:00",
         "7319",
         "8029",
         "126.7",
         "156.0"
        ],
        [
         "18",
         "root='Ride'",
         "Afternoon Mountain Bike Ride",
         "2025-01-29 16:36:36+00:00",
         "2210",
         "2348",
         "138.6",
         "171.0"
        ],
        [
         "19",
         "root='RockClimbing'",
         "Uni Bouldern",
         "2025-01-27 18:03:37+00:00",
         "9671",
         "9671",
         "134.9",
         "166.0"
        ],
        [
         "20",
         "root='WeightTraining'",
         "Afternoon Weight Training",
         "2025-01-26 14:04:11+00:00",
         "6003",
         "6003",
         "132.6",
         "173.0"
        ],
        [
         "21",
         "root='WeightTraining'",
         "Evening Weight Training",
         "2025-01-24 18:04:05+00:00",
         "9194",
         "9194",
         "128.9",
         "165.0"
        ],
        [
         "22",
         "root='WeightTraining'",
         "Afternoon Weight Training",
         "2025-01-19 14:14:41+00:00",
         "6468",
         "6468",
         "138.4",
         "182.0"
        ],
        [
         "23",
         "root='RockClimbing'",
         "Uni Bouldern",
         "2025-01-17 18:44:18+00:00",
         "5776",
         "5776",
         "136.3",
         "176.0"
        ],
        [
         "24",
         "root='WeightTraining'",
         "Afternoon Weight Training",
         "2025-01-17 16:16:14+00:00",
         "50",
         "50",
         "64.7",
         "75.0"
        ],
        [
         "25",
         "root='WeightTraining'",
         "Afternoon Weight Training",
         "2025-01-08 13:19:55+00:00",
         "5543",
         "5543",
         "132.0",
         "163.0"
        ],
        [
         "26",
         "root='RockClimbing'",
         "Uni Bouldern",
         "2025-01-06 18:10:49+00:00",
         "6600",
         "6600",
         null,
         null
        ],
        [
         "27",
         "root='Ride'",
         "Morning Ride",
         "2025-01-05 10:31:36+00:00",
         "4014",
         "4014",
         "156.3",
         "190.0"
        ],
        [
         "28",
         "root='WeightTraining'",
         "Afternoon Weight Training",
         "2025-01-03 17:40:33+00:00",
         "6098",
         "6098",
         "109.7",
         "158.0"
        ],
        [
         "29",
         "root='WeightTraining'",
         "Afternoon Weight Training",
         "2024-12-30 16:19:29+00:00",
         "3618",
         "3618",
         "138.7",
         "184.0"
        ],
        [
         "30",
         "root='RockClimbing'",
         "Max bouldern",
         "2024-12-28 13:30:38+00:00",
         "7200",
         "7200",
         null,
         null
        ],
        [
         "31",
         "root='Ride'",
         "Weihnachtsfahrt Teil 2",
         "2024-12-26 13:59:53+00:00",
         "7254",
         "9775",
         "130.4",
         "169.0"
        ],
        [
         "32",
         "root='Ride'",
         "Morning Mountain Bike Ride",
         "2024-12-26 10:59:16+00:00",
         "1293",
         "1509",
         "131.3",
         "169.0"
        ],
        [
         "33",
         "root='Ride'",
         "Weihnachtsfahrt",
         "2024-12-24 14:07:00+00:00",
         "5616",
         "8387",
         "139.0",
         "174.0"
        ],
        [
         "34",
         "root='Ride'",
         "Lunch Mountain Bike Ride",
         "2024-12-24 12:09:17+00:00",
         "1207",
         "1443",
         "99.6",
         "142.0"
        ],
        [
         "35",
         "root='Ride'",
         "Afternoon Mountain Bike Ride",
         "2024-12-23 13:54:03+00:00",
         "3256",
         "3813",
         "155.6",
         "184.0"
        ],
        [
         "36",
         "root='Ride'",
         "Akku leer",
         "2024-12-22 15:10:43+00:00",
         "3600",
         "3600",
         null,
         null
        ],
        [
         "37",
         "root='Ride'",
         "Afternoon Mountain Bike Ride",
         "2024-12-22 14:02:54+00:00",
         "2731",
         "3441",
         "145.2",
         "178.0"
        ],
        [
         "38",
         "root='WeightTraining'",
         "Evening Weight Training",
         "2024-12-19 18:41:33+00:00",
         "3887",
         "3887",
         "136.3",
         "175.0"
        ],
        [
         "39",
         "root='Ride'",
         "Afternoon Mountain Bike Ride",
         "2024-12-18 15:06:11+00:00",
         "1889",
         "1951",
         "158.6",
         "184.0"
        ],
        [
         "40",
         "root='Ride'",
         "Uhr vergessen",
         "2024-12-18 14:50:47+00:00",
         "900",
         "900",
         null,
         null
        ],
        [
         "41",
         "root='RockClimbing'",
         "Uni Bouldern",
         "2024-12-16 17:15:54+00:00",
         "7200",
         "7200",
         null,
         null
        ],
        [
         "42",
         "root='RockClimbing'",
         "Uni Bouldern",
         "2024-12-13 18:00:04+00:00",
         "10800",
         "10800",
         null,
         null
        ],
        [
         "43",
         "root='Ride'",
         "Night Ride",
         "2024-12-12 21:16:00+00:00",
         "1706",
         "1706",
         "156.0",
         "170.0"
        ],
        [
         "44",
         "root='WeightTraining'",
         "Evening Weight Training",
         "2024-12-10 18:32:21+00:00",
         "3992",
         "3992",
         "138.0",
         "169.0"
        ],
        [
         "45",
         "root='RockClimbing'",
         "Uni Bouldern",
         "2024-12-06 17:30:34+00:00",
         "8400",
         "8400",
         null,
         null
        ],
        [
         "46",
         "root='RockClimbing'",
         "Uni Bouldern",
         "2024-11-25 19:30:47+00:00",
         "7200",
         "7200",
         null,
         null
        ],
        [
         "47",
         "root='WeightTraining'",
         "Morning Weight Training",
         "2024-11-24 07:37:17+00:00",
         "1887",
         "1887",
         "114.8",
         "157.0"
        ],
        [
         "48",
         "root='WeightTraining'",
         "Evening Weight Training",
         "2024-11-13 20:55:25+00:00",
         "2226",
         "2226",
         "126.1",
         "176.0"
        ],
        [
         "49",
         "root='Ride'",
         "Evening Ride",
         "2024-11-13 20:34:54+00:00",
         "905",
         "905",
         "151.5",
         "170.0"
        ]
       ],
       "shape": {
        "columns": 7,
        "rows": 572
       }
      },
      "text/html": [
       "<div>\n",
       "<style scoped>\n",
       "    .dataframe tbody tr th:only-of-type {\n",
       "        vertical-align: middle;\n",
       "    }\n",
       "\n",
       "    .dataframe tbody tr th {\n",
       "        vertical-align: top;\n",
       "    }\n",
       "\n",
       "    .dataframe thead th {\n",
       "        text-align: right;\n",
       "    }\n",
       "</style>\n",
       "<table border=\"1\" class=\"dataframe\">\n",
       "  <thead>\n",
       "    <tr style=\"text-align: right;\">\n",
       "      <th></th>\n",
       "      <th>type</th>\n",
       "      <th>name</th>\n",
       "      <th>start_date_local</th>\n",
       "      <th>moving_time</th>\n",
       "      <th>elapsed_time</th>\n",
       "      <th>average_heartrate</th>\n",
       "      <th>max_heartrate</th>\n",
       "    </tr>\n",
       "  </thead>\n",
       "  <tbody>\n",
       "    <tr>\n",
       "      <th>0</th>\n",
       "      <td>root='Ride'</td>\n",
       "      <td>Afternoon Ride</td>\n",
       "      <td>2025-02-23 14:14:46+00:00</td>\n",
       "      <td>7348</td>\n",
       "      <td>11608</td>\n",
       "      <td>137.9</td>\n",
       "      <td>160.0</td>\n",
       "    </tr>\n",
       "    <tr>\n",
       "      <th>1</th>\n",
       "      <td>root='Ride'</td>\n",
       "      <td>Afternoon Mountain Bike Ride</td>\n",
       "      <td>2025-02-23 14:14:38+00:00</td>\n",
       "      <td>7898</td>\n",
       "      <td>11662</td>\n",
       "      <td>147.2</td>\n",
       "      <td>176.0</td>\n",
       "    </tr>\n",
       "    <tr>\n",
       "      <th>2</th>\n",
       "      <td>root='Ride'</td>\n",
       "      <td>Lunch Mountain Bike Ride</td>\n",
       "      <td>2025-02-23 11:08:41+00:00</td>\n",
       "      <td>1360</td>\n",
       "      <td>1551</td>\n",
       "      <td>118.6</td>\n",
       "      <td>150.0</td>\n",
       "    </tr>\n",
       "    <tr>\n",
       "      <th>3</th>\n",
       "      <td>root='RockClimbing'</td>\n",
       "      <td>Uni Bouldern</td>\n",
       "      <td>2025-02-21 18:17:06+00:00</td>\n",
       "      <td>6802</td>\n",
       "      <td>6802</td>\n",
       "      <td>130.8</td>\n",
       "      <td>165.0</td>\n",
       "    </tr>\n",
       "    <tr>\n",
       "      <th>4</th>\n",
       "      <td>root='Ride'</td>\n",
       "      <td>Afternoon Mountain Bike Ride</td>\n",
       "      <td>2025-02-19 16:37:45+00:00</td>\n",
       "      <td>2462</td>\n",
       "      <td>2683</td>\n",
       "      <td>153.9</td>\n",
       "      <td>177.0</td>\n",
       "    </tr>\n",
       "    <tr>\n",
       "      <th>...</th>\n",
       "      <td>...</td>\n",
       "      <td>...</td>\n",
       "      <td>...</td>\n",
       "      <td>...</td>\n",
       "      <td>...</td>\n",
       "      <td>...</td>\n",
       "      <td>...</td>\n",
       "    </tr>\n",
       "    <tr>\n",
       "      <th>567</th>\n",
       "      <td>root='Ride'</td>\n",
       "      <td>Radfahrt am Nachmittag</td>\n",
       "      <td>2020-04-29 14:13:53+00:00</td>\n",
       "      <td>259</td>\n",
       "      <td>622</td>\n",
       "      <td>NaN</td>\n",
       "      <td>NaN</td>\n",
       "    </tr>\n",
       "    <tr>\n",
       "      <th>568</th>\n",
       "      <td>root='Ride'</td>\n",
       "      <td>Radfahrt am Mittag</td>\n",
       "      <td>2020-04-29 12:16:59+00:00</td>\n",
       "      <td>1420</td>\n",
       "      <td>6880</td>\n",
       "      <td>NaN</td>\n",
       "      <td>NaN</td>\n",
       "    </tr>\n",
       "    <tr>\n",
       "      <th>569</th>\n",
       "      <td>root='Ride'</td>\n",
       "      <td>Saas</td>\n",
       "      <td>2020-04-22 13:55:42+00:00</td>\n",
       "      <td>592660</td>\n",
       "      <td>598825</td>\n",
       "      <td>NaN</td>\n",
       "      <td>NaN</td>\n",
       "    </tr>\n",
       "    <tr>\n",
       "      <th>570</th>\n",
       "      <td>root='Ride'</td>\n",
       "      <td>Radfahrt am Mittag</td>\n",
       "      <td>2020-04-22 12:35:37+00:00</td>\n",
       "      <td>1507</td>\n",
       "      <td>2016</td>\n",
       "      <td>NaN</td>\n",
       "      <td>NaN</td>\n",
       "    </tr>\n",
       "    <tr>\n",
       "      <th>571</th>\n",
       "      <td>root='Ride'</td>\n",
       "      <td>Leeel</td>\n",
       "      <td>2020-04-17 13:17:41+00:00</td>\n",
       "      <td>2059</td>\n",
       "      <td>3755</td>\n",
       "      <td>NaN</td>\n",
       "      <td>NaN</td>\n",
       "    </tr>\n",
       "  </tbody>\n",
       "</table>\n",
       "<p>572 rows × 7 columns</p>\n",
       "</div>"
      ],
      "text/plain": [
       "                    type                          name  \\\n",
       "0            root='Ride'                Afternoon Ride   \n",
       "1            root='Ride'  Afternoon Mountain Bike Ride   \n",
       "2            root='Ride'      Lunch Mountain Bike Ride   \n",
       "3    root='RockClimbing'                  Uni Bouldern   \n",
       "4            root='Ride'  Afternoon Mountain Bike Ride   \n",
       "..                   ...                           ...   \n",
       "567          root='Ride'        Radfahrt am Nachmittag   \n",
       "568          root='Ride'            Radfahrt am Mittag   \n",
       "569          root='Ride'                          Saas   \n",
       "570          root='Ride'            Radfahrt am Mittag   \n",
       "571          root='Ride'                         Leeel   \n",
       "\n",
       "             start_date_local  moving_time  elapsed_time  average_heartrate  \\\n",
       "0   2025-02-23 14:14:46+00:00         7348         11608              137.9   \n",
       "1   2025-02-23 14:14:38+00:00         7898         11662              147.2   \n",
       "2   2025-02-23 11:08:41+00:00         1360          1551              118.6   \n",
       "3   2025-02-21 18:17:06+00:00         6802          6802              130.8   \n",
       "4   2025-02-19 16:37:45+00:00         2462          2683              153.9   \n",
       "..                        ...          ...           ...                ...   \n",
       "567 2020-04-29 14:13:53+00:00          259           622                NaN   \n",
       "568 2020-04-29 12:16:59+00:00         1420          6880                NaN   \n",
       "569 2020-04-22 13:55:42+00:00       592660        598825                NaN   \n",
       "570 2020-04-22 12:35:37+00:00         1507          2016                NaN   \n",
       "571 2020-04-17 13:17:41+00:00         2059          3755                NaN   \n",
       "\n",
       "     max_heartrate  \n",
       "0            160.0  \n",
       "1            176.0  \n",
       "2            150.0  \n",
       "3            165.0  \n",
       "4            177.0  \n",
       "..             ...  \n",
       "567            NaN  \n",
       "568            NaN  \n",
       "569            NaN  \n",
       "570            NaN  \n",
       "571            NaN  \n",
       "\n",
       "[572 rows x 7 columns]"
      ]
     },
     "execution_count": 17,
     "metadata": {},
     "output_type": "execute_result"
    }
   ],
   "source": [
    "df['start_date_local'] = pd.to_datetime(df['start_date_local'])\n",
    "df"
   ]
  },
  {
   "cell_type": "code",
   "execution_count": 19,
   "metadata": {},
   "outputs": [],
   "source": [
    "df['end_date_local'] = df['start_date_local'] + pd.to_timedelta(df['elapsed_time'], unit='s')"
   ]
  },
  {
   "cell_type": "code",
   "execution_count": 21,
   "metadata": {},
   "outputs": [],
   "source": [
    "# filter for activities end after 17:00\n",
    "df_filter = df[df['end_date_local'].dt.hour >= 17]"
   ]
  }
 ],
 "metadata": {
  "kernelspec": {
   "display_name": "Finance",
   "language": "python",
   "name": "python3"
  },
  "language_info": {
   "codemirror_mode": {
    "name": "ipython",
    "version": 3
   },
   "file_extension": ".py",
   "mimetype": "text/x-python",
   "name": "python",
   "nbconvert_exporter": "python",
   "pygments_lexer": "ipython3",
   "version": "3.11.5"
  }
 },
 "nbformat": 4,
 "nbformat_minor": 2
}
